{
  "nbformat": 4,
  "nbformat_minor": 0,
  "metadata": {
    "colab": {
      "name": "RandomForest",
      "version": "0.3.2",
      "provenance": [],
      "include_colab_link": true
    },
    "kernelspec": {
      "name": "python3",
      "display_name": "Python 3"
    },
    "accelerator": "GPU"
  },
  "cells": [
    {
      "cell_type": "markdown",
      "metadata": {
        "id": "view-in-github",
        "colab_type": "text"
      },
      "source": [
        "[View in Colaboratory](https://colab.research.google.com/github/avs20/GNoidaMLBatch/blob/master/Lesson1-RandomForest.ipynb)"
      ]
    },
    {
      "metadata": {
        "id": "LVlWIoHkk5zR",
        "colab_type": "code",
        "colab": {
          "base_uri": "https://localhost:8080/",
          "height": 51
        },
        "outputId": "caa5e794-7682-495a-d215-a3cda3bc0162"
      },
      "cell_type": "code",
      "source": [
        "!wget https://raw.githubusercontent.com/avs20/MSIT_ML_CLASS/master/datasets/ames_housing_trimmed_processed.csv"
      ],
      "execution_count": 3,
      "outputs": [
        {
          "output_type": "stream",
          "text": [
            "\n",
            "Redirecting output to ‘wget-log’.\n"
          ],
          "name": "stdout"
        }
      ]
    },
    {
      "metadata": {
        "id": "GybP0lGFltaI",
        "colab_type": "code",
        "colab": {
          "base_uri": "https://localhost:8080/",
          "height": 34
        },
        "outputId": "80791efe-0126-4e5d-d7d2-9749488886c9"
      },
      "cell_type": "code",
      "source": [
        "!ls"
      ],
      "execution_count": 4,
      "outputs": [
        {
          "output_type": "stream",
          "text": [
            "ames_housing_trimmed_processed.csv  sample_data  wget-log\n"
          ],
          "name": "stdout"
        }
      ]
    },
    {
      "metadata": {
        "id": "PNym0vTRlzwu",
        "colab_type": "code",
        "colab": {}
      },
      "cell_type": "code",
      "source": [
        "import pandas as pd\n",
        "import numpy as np "
      ],
      "execution_count": 0,
      "outputs": []
    },
    {
      "metadata": {
        "id": "ktj6a4CTl6Ar",
        "colab_type": "code",
        "colab": {
          "base_uri": "https://localhost:8080/",
          "height": 252
        },
        "outputId": "657044bc-ad12-4218-d41b-4e51b9d26e6c"
      },
      "cell_type": "code",
      "source": [
        "df_raw = pd.read_csv('ames_housing_trimmed_processed.csv')\n",
        "# print the first 5 rows of the DataFrame\n",
        "df_raw.head()"
      ],
      "execution_count": 6,
      "outputs": [
        {
          "output_type": "execute_result",
          "data": {
            "text/html": [
              "<div>\n",
              "<style scoped>\n",
              "    .dataframe tbody tr th:only-of-type {\n",
              "        vertical-align: middle;\n",
              "    }\n",
              "\n",
              "    .dataframe tbody tr th {\n",
              "        vertical-align: top;\n",
              "    }\n",
              "\n",
              "    .dataframe thead th {\n",
              "        text-align: right;\n",
              "    }\n",
              "</style>\n",
              "<table border=\"1\" class=\"dataframe\">\n",
              "  <thead>\n",
              "    <tr style=\"text-align: right;\">\n",
              "      <th></th>\n",
              "      <th>MSSubClass</th>\n",
              "      <th>LotFrontage</th>\n",
              "      <th>LotArea</th>\n",
              "      <th>OverallQual</th>\n",
              "      <th>OverallCond</th>\n",
              "      <th>YearBuilt</th>\n",
              "      <th>Remodeled</th>\n",
              "      <th>GrLivArea</th>\n",
              "      <th>BsmtFullBath</th>\n",
              "      <th>BsmtHalfBath</th>\n",
              "      <th>...</th>\n",
              "      <th>HouseStyle_1.5Unf</th>\n",
              "      <th>HouseStyle_1Story</th>\n",
              "      <th>HouseStyle_2.5Fin</th>\n",
              "      <th>HouseStyle_2.5Unf</th>\n",
              "      <th>HouseStyle_2Story</th>\n",
              "      <th>HouseStyle_SFoyer</th>\n",
              "      <th>HouseStyle_SLvl</th>\n",
              "      <th>PavedDrive_P</th>\n",
              "      <th>PavedDrive_Y</th>\n",
              "      <th>SalePrice</th>\n",
              "    </tr>\n",
              "  </thead>\n",
              "  <tbody>\n",
              "    <tr>\n",
              "      <th>0</th>\n",
              "      <td>60</td>\n",
              "      <td>65.0</td>\n",
              "      <td>8450</td>\n",
              "      <td>7</td>\n",
              "      <td>5</td>\n",
              "      <td>2003</td>\n",
              "      <td>0</td>\n",
              "      <td>1710</td>\n",
              "      <td>1</td>\n",
              "      <td>0</td>\n",
              "      <td>...</td>\n",
              "      <td>0</td>\n",
              "      <td>0</td>\n",
              "      <td>0</td>\n",
              "      <td>0</td>\n",
              "      <td>1</td>\n",
              "      <td>0</td>\n",
              "      <td>0</td>\n",
              "      <td>0</td>\n",
              "      <td>1</td>\n",
              "      <td>208500</td>\n",
              "    </tr>\n",
              "    <tr>\n",
              "      <th>1</th>\n",
              "      <td>20</td>\n",
              "      <td>80.0</td>\n",
              "      <td>9600</td>\n",
              "      <td>6</td>\n",
              "      <td>8</td>\n",
              "      <td>1976</td>\n",
              "      <td>0</td>\n",
              "      <td>1262</td>\n",
              "      <td>0</td>\n",
              "      <td>1</td>\n",
              "      <td>...</td>\n",
              "      <td>0</td>\n",
              "      <td>1</td>\n",
              "      <td>0</td>\n",
              "      <td>0</td>\n",
              "      <td>0</td>\n",
              "      <td>0</td>\n",
              "      <td>0</td>\n",
              "      <td>0</td>\n",
              "      <td>1</td>\n",
              "      <td>181500</td>\n",
              "    </tr>\n",
              "    <tr>\n",
              "      <th>2</th>\n",
              "      <td>60</td>\n",
              "      <td>68.0</td>\n",
              "      <td>11250</td>\n",
              "      <td>7</td>\n",
              "      <td>5</td>\n",
              "      <td>2001</td>\n",
              "      <td>1</td>\n",
              "      <td>1786</td>\n",
              "      <td>1</td>\n",
              "      <td>0</td>\n",
              "      <td>...</td>\n",
              "      <td>0</td>\n",
              "      <td>0</td>\n",
              "      <td>0</td>\n",
              "      <td>0</td>\n",
              "      <td>1</td>\n",
              "      <td>0</td>\n",
              "      <td>0</td>\n",
              "      <td>0</td>\n",
              "      <td>1</td>\n",
              "      <td>223500</td>\n",
              "    </tr>\n",
              "    <tr>\n",
              "      <th>3</th>\n",
              "      <td>70</td>\n",
              "      <td>60.0</td>\n",
              "      <td>9550</td>\n",
              "      <td>7</td>\n",
              "      <td>5</td>\n",
              "      <td>1915</td>\n",
              "      <td>1</td>\n",
              "      <td>1717</td>\n",
              "      <td>1</td>\n",
              "      <td>0</td>\n",
              "      <td>...</td>\n",
              "      <td>0</td>\n",
              "      <td>0</td>\n",
              "      <td>0</td>\n",
              "      <td>0</td>\n",
              "      <td>1</td>\n",
              "      <td>0</td>\n",
              "      <td>0</td>\n",
              "      <td>0</td>\n",
              "      <td>1</td>\n",
              "      <td>140000</td>\n",
              "    </tr>\n",
              "    <tr>\n",
              "      <th>4</th>\n",
              "      <td>60</td>\n",
              "      <td>84.0</td>\n",
              "      <td>14260</td>\n",
              "      <td>8</td>\n",
              "      <td>5</td>\n",
              "      <td>2000</td>\n",
              "      <td>0</td>\n",
              "      <td>2198</td>\n",
              "      <td>1</td>\n",
              "      <td>0</td>\n",
              "      <td>...</td>\n",
              "      <td>0</td>\n",
              "      <td>0</td>\n",
              "      <td>0</td>\n",
              "      <td>0</td>\n",
              "      <td>1</td>\n",
              "      <td>0</td>\n",
              "      <td>0</td>\n",
              "      <td>0</td>\n",
              "      <td>1</td>\n",
              "      <td>250000</td>\n",
              "    </tr>\n",
              "  </tbody>\n",
              "</table>\n",
              "<p>5 rows × 57 columns</p>\n",
              "</div>"
            ],
            "text/plain": [
              "   MSSubClass  LotFrontage  LotArea  OverallQual  OverallCond  YearBuilt  \\\n",
              "0          60         65.0     8450            7            5       2003   \n",
              "1          20         80.0     9600            6            8       1976   \n",
              "2          60         68.0    11250            7            5       2001   \n",
              "3          70         60.0     9550            7            5       1915   \n",
              "4          60         84.0    14260            8            5       2000   \n",
              "\n",
              "   Remodeled  GrLivArea  BsmtFullBath  BsmtHalfBath    ...      \\\n",
              "0          0       1710             1             0    ...       \n",
              "1          0       1262             0             1    ...       \n",
              "2          1       1786             1             0    ...       \n",
              "3          1       1717             1             0    ...       \n",
              "4          0       2198             1             0    ...       \n",
              "\n",
              "   HouseStyle_1.5Unf  HouseStyle_1Story  HouseStyle_2.5Fin  HouseStyle_2.5Unf  \\\n",
              "0                  0                  0                  0                  0   \n",
              "1                  0                  1                  0                  0   \n",
              "2                  0                  0                  0                  0   \n",
              "3                  0                  0                  0                  0   \n",
              "4                  0                  0                  0                  0   \n",
              "\n",
              "   HouseStyle_2Story  HouseStyle_SFoyer  HouseStyle_SLvl  PavedDrive_P  \\\n",
              "0                  1                  0                0             0   \n",
              "1                  0                  0                0             0   \n",
              "2                  1                  0                0             0   \n",
              "3                  1                  0                0             0   \n",
              "4                  1                  0                0             0   \n",
              "\n",
              "   PavedDrive_Y  SalePrice  \n",
              "0             1     208500  \n",
              "1             1     181500  \n",
              "2             1     223500  \n",
              "3             1     140000  \n",
              "4             1     250000  \n",
              "\n",
              "[5 rows x 57 columns]"
            ]
          },
          "metadata": {
            "tags": []
          },
          "execution_count": 6
        }
      ]
    },
    {
      "metadata": {
        "id": "dGDMC9R3mQPm",
        "colab_type": "code",
        "colab": {
          "base_uri": "https://localhost:8080/",
          "height": 208
        },
        "outputId": "c78bc294-9a28-4574-96c3-0bb5383602dc"
      },
      "cell_type": "code",
      "source": [
        "!head ./ames_housing_trimmed_processed.csv"
      ],
      "execution_count": 7,
      "outputs": [
        {
          "output_type": "stream",
          "text": [
            "MSSubClass,LotFrontage,LotArea,OverallQual,OverallCond,YearBuilt,Remodeled,GrLivArea,BsmtFullBath,BsmtHalfBath,FullBath,HalfBath,BedroomAbvGr,Fireplaces,GarageArea,MSZoning_FV,MSZoning_RH,MSZoning_RL,MSZoning_RM,Neighborhood_Blueste,Neighborhood_BrDale,Neighborhood_BrkSide,Neighborhood_ClearCr,Neighborhood_CollgCr,Neighborhood_Crawfor,Neighborhood_Edwards,Neighborhood_Gilbert,Neighborhood_IDOTRR,Neighborhood_MeadowV,Neighborhood_Mitchel,Neighborhood_NAmes,Neighborhood_NPkVill,Neighborhood_NWAmes,Neighborhood_NoRidge,Neighborhood_NridgHt,Neighborhood_OldTown,Neighborhood_SWISU,Neighborhood_Sawyer,Neighborhood_SawyerW,Neighborhood_Somerst,Neighborhood_StoneBr,Neighborhood_Timber,Neighborhood_Veenker,BldgType_2fmCon,BldgType_Duplex,BldgType_Twnhs,BldgType_TwnhsE,HouseStyle_1.5Unf,HouseStyle_1Story,HouseStyle_2.5Fin,HouseStyle_2.5Unf,HouseStyle_2Story,HouseStyle_SFoyer,HouseStyle_SLvl,PavedDrive_P,PavedDrive_Y,SalePrice\n",
            "60,65.0,8450,7,5,2003,0,1710,1,0,2,1,3,0,548,0,0,1,0,0,0,0,0,1,0,0,0,0,0,0,0,0,0,0,0,0,0,0,0,0,0,0,0,0,0,0,0,0,0,0,0,1,0,0,0,1,208500\n",
            "20,80.0,9600,6,8,1976,0,1262,0,1,2,0,3,1,460,0,0,1,0,0,0,0,0,0,0,0,0,0,0,0,0,0,0,0,0,0,0,0,0,0,0,0,1,0,0,0,0,0,1,0,0,0,0,0,0,1,181500\n",
            "60,68.0,11250,7,5,2001,1,1786,1,0,2,1,3,1,608,0,0,1,0,0,0,0,0,1,0,0,0,0,0,0,0,0,0,0,0,0,0,0,0,0,0,0,0,0,0,0,0,0,0,0,0,1,0,0,0,1,223500\n",
            "70,60.0,9550,7,5,1915,1,1717,1,0,1,0,3,1,642,0,0,1,0,0,0,0,0,0,1,0,0,0,0,0,0,0,0,0,0,0,0,0,0,0,0,0,0,0,0,0,0,0,0,0,0,1,0,0,0,1,140000\n",
            "60,84.0,14260,8,5,2000,0,2198,1,0,2,1,4,1,836,0,0,1,0,0,0,0,0,0,0,0,0,0,0,0,0,0,0,1,0,0,0,0,0,0,0,0,0,0,0,0,0,0,0,0,0,1,0,0,0,1,250000\n",
            "50,85.0,14115,5,5,1993,1,1362,1,0,1,1,1,0,480,0,0,1,0,0,0,0,0,0,0,0,0,0,0,1,0,0,0,0,0,0,0,0,0,0,0,0,0,0,0,0,0,0,0,0,0,0,0,0,0,1,143000\n",
            "20,75.0,10084,8,5,2004,1,1694,1,0,2,0,3,1,636,0,0,1,0,0,0,0,0,0,0,0,0,0,0,0,0,0,0,0,0,0,0,0,0,1,0,0,0,0,0,0,0,0,1,0,0,0,0,0,0,1,307000\n",
            "60,0.0,10382,7,6,1973,0,2090,1,0,2,1,3,2,484,0,0,1,0,0,0,0,0,0,0,0,0,0,0,0,0,0,1,0,0,0,0,0,0,0,0,0,0,0,0,0,0,0,0,0,0,1,0,0,0,1,200000\n",
            "50,51.0,6120,7,5,1931,1,1774,0,0,2,0,2,2,468,0,0,0,1,0,0,0,0,0,0,0,0,0,0,0,0,0,0,0,0,1,0,0,0,0,0,0,0,0,0,0,0,0,0,0,0,0,0,0,0,1,129900\n"
          ],
          "name": "stdout"
        }
      ]
    },
    {
      "metadata": {
        "id": "mUq2iGZAmb9x",
        "colab_type": "code",
        "colab": {
          "base_uri": "https://localhost:8080/",
          "height": 326
        },
        "outputId": "e7652487-3942-43ed-9d10-1e0a0ad014b6"
      },
      "cell_type": "code",
      "source": [
        "df_raw.columns"
      ],
      "execution_count": 8,
      "outputs": [
        {
          "output_type": "execute_result",
          "data": {
            "text/plain": [
              "Index(['MSSubClass', 'LotFrontage', 'LotArea', 'OverallQual', 'OverallCond',\n",
              "       'YearBuilt', 'Remodeled', 'GrLivArea', 'BsmtFullBath', 'BsmtHalfBath',\n",
              "       'FullBath', 'HalfBath', 'BedroomAbvGr', 'Fireplaces', 'GarageArea',\n",
              "       'MSZoning_FV', 'MSZoning_RH', 'MSZoning_RL', 'MSZoning_RM',\n",
              "       'Neighborhood_Blueste', 'Neighborhood_BrDale', 'Neighborhood_BrkSide',\n",
              "       'Neighborhood_ClearCr', 'Neighborhood_CollgCr', 'Neighborhood_Crawfor',\n",
              "       'Neighborhood_Edwards', 'Neighborhood_Gilbert', 'Neighborhood_IDOTRR',\n",
              "       'Neighborhood_MeadowV', 'Neighborhood_Mitchel', 'Neighborhood_NAmes',\n",
              "       'Neighborhood_NPkVill', 'Neighborhood_NWAmes', 'Neighborhood_NoRidge',\n",
              "       'Neighborhood_NridgHt', 'Neighborhood_OldTown', 'Neighborhood_SWISU',\n",
              "       'Neighborhood_Sawyer', 'Neighborhood_SawyerW', 'Neighborhood_Somerst',\n",
              "       'Neighborhood_StoneBr', 'Neighborhood_Timber', 'Neighborhood_Veenker',\n",
              "       'BldgType_2fmCon', 'BldgType_Duplex', 'BldgType_Twnhs',\n",
              "       'BldgType_TwnhsE', 'HouseStyle_1.5Unf', 'HouseStyle_1Story',\n",
              "       'HouseStyle_2.5Fin', 'HouseStyle_2.5Unf', 'HouseStyle_2Story',\n",
              "       'HouseStyle_SFoyer', 'HouseStyle_SLvl', 'PavedDrive_P', 'PavedDrive_Y',\n",
              "       'SalePrice'],\n",
              "      dtype='object')"
            ]
          },
          "metadata": {
            "tags": []
          },
          "execution_count": 8
        }
      ]
    },
    {
      "metadata": {
        "id": "ghgN9GJPmiJy",
        "colab_type": "code",
        "colab": {
          "base_uri": "https://localhost:8080/",
          "height": 1080
        },
        "outputId": "a6847016-b6ee-425e-8e35-8981481e22b9"
      },
      "cell_type": "code",
      "source": [
        "df_raw.info()"
      ],
      "execution_count": 9,
      "outputs": [
        {
          "output_type": "stream",
          "text": [
            "<class 'pandas.core.frame.DataFrame'>\n",
            "RangeIndex: 1460 entries, 0 to 1459\n",
            "Data columns (total 57 columns):\n",
            "MSSubClass              1460 non-null int64\n",
            "LotFrontage             1460 non-null float64\n",
            "LotArea                 1460 non-null int64\n",
            "OverallQual             1460 non-null int64\n",
            "OverallCond             1460 non-null int64\n",
            "YearBuilt               1460 non-null int64\n",
            "Remodeled               1460 non-null int64\n",
            "GrLivArea               1460 non-null int64\n",
            "BsmtFullBath            1460 non-null int64\n",
            "BsmtHalfBath            1460 non-null int64\n",
            "FullBath                1460 non-null int64\n",
            "HalfBath                1460 non-null int64\n",
            "BedroomAbvGr            1460 non-null int64\n",
            "Fireplaces              1460 non-null int64\n",
            "GarageArea              1460 non-null int64\n",
            "MSZoning_FV             1460 non-null int64\n",
            "MSZoning_RH             1460 non-null int64\n",
            "MSZoning_RL             1460 non-null int64\n",
            "MSZoning_RM             1460 non-null int64\n",
            "Neighborhood_Blueste    1460 non-null int64\n",
            "Neighborhood_BrDale     1460 non-null int64\n",
            "Neighborhood_BrkSide    1460 non-null int64\n",
            "Neighborhood_ClearCr    1460 non-null int64\n",
            "Neighborhood_CollgCr    1460 non-null int64\n",
            "Neighborhood_Crawfor    1460 non-null int64\n",
            "Neighborhood_Edwards    1460 non-null int64\n",
            "Neighborhood_Gilbert    1460 non-null int64\n",
            "Neighborhood_IDOTRR     1460 non-null int64\n",
            "Neighborhood_MeadowV    1460 non-null int64\n",
            "Neighborhood_Mitchel    1460 non-null int64\n",
            "Neighborhood_NAmes      1460 non-null int64\n",
            "Neighborhood_NPkVill    1460 non-null int64\n",
            "Neighborhood_NWAmes     1460 non-null int64\n",
            "Neighborhood_NoRidge    1460 non-null int64\n",
            "Neighborhood_NridgHt    1460 non-null int64\n",
            "Neighborhood_OldTown    1460 non-null int64\n",
            "Neighborhood_SWISU      1460 non-null int64\n",
            "Neighborhood_Sawyer     1460 non-null int64\n",
            "Neighborhood_SawyerW    1460 non-null int64\n",
            "Neighborhood_Somerst    1460 non-null int64\n",
            "Neighborhood_StoneBr    1460 non-null int64\n",
            "Neighborhood_Timber     1460 non-null int64\n",
            "Neighborhood_Veenker    1460 non-null int64\n",
            "BldgType_2fmCon         1460 non-null int64\n",
            "BldgType_Duplex         1460 non-null int64\n",
            "BldgType_Twnhs          1460 non-null int64\n",
            "BldgType_TwnhsE         1460 non-null int64\n",
            "HouseStyle_1.5Unf       1460 non-null int64\n",
            "HouseStyle_1Story       1460 non-null int64\n",
            "HouseStyle_2.5Fin       1460 non-null int64\n",
            "HouseStyle_2.5Unf       1460 non-null int64\n",
            "HouseStyle_2Story       1460 non-null int64\n",
            "HouseStyle_SFoyer       1460 non-null int64\n",
            "HouseStyle_SLvl         1460 non-null int64\n",
            "PavedDrive_P            1460 non-null int64\n",
            "PavedDrive_Y            1460 non-null int64\n",
            "SalePrice               1460 non-null int64\n",
            "dtypes: float64(1), int64(56)\n",
            "memory usage: 650.2 KB\n"
          ],
          "name": "stdout"
        }
      ]
    },
    {
      "metadata": {
        "id": "zXI61VA8m6CB",
        "colab_type": "code",
        "colab": {
          "base_uri": "https://localhost:8080/",
          "height": 1080
        },
        "outputId": "39abf0e9-8524-4069-f988-a540edefeb1a"
      },
      "cell_type": "code",
      "source": [
        "df_raw['SalePrice']"
      ],
      "execution_count": 10,
      "outputs": [
        {
          "output_type": "execute_result",
          "data": {
            "text/plain": [
              "0       208500\n",
              "1       181500\n",
              "2       223500\n",
              "3       140000\n",
              "4       250000\n",
              "5       143000\n",
              "6       307000\n",
              "7       200000\n",
              "8       129900\n",
              "9       118000\n",
              "10      129500\n",
              "11      345000\n",
              "12      144000\n",
              "13      279500\n",
              "14      157000\n",
              "15      132000\n",
              "16      149000\n",
              "17       90000\n",
              "18      159000\n",
              "19      139000\n",
              "20      325300\n",
              "21      139400\n",
              "22      230000\n",
              "23      129900\n",
              "24      154000\n",
              "25      256300\n",
              "26      134800\n",
              "27      306000\n",
              "28      207500\n",
              "29       68500\n",
              "         ...  \n",
              "1430    192140\n",
              "1431    143750\n",
              "1432     64500\n",
              "1433    186500\n",
              "1434    160000\n",
              "1435    174000\n",
              "1436    120500\n",
              "1437    394617\n",
              "1438    149700\n",
              "1439    197000\n",
              "1440    191000\n",
              "1441    149300\n",
              "1442    310000\n",
              "1443    121000\n",
              "1444    179600\n",
              "1445    129000\n",
              "1446    157900\n",
              "1447    240000\n",
              "1448    112000\n",
              "1449     92000\n",
              "1450    136000\n",
              "1451    287090\n",
              "1452    145000\n",
              "1453     84500\n",
              "1454    185000\n",
              "1455    175000\n",
              "1456    210000\n",
              "1457    266500\n",
              "1458    142125\n",
              "1459    147500\n",
              "Name: SalePrice, Length: 1460, dtype: int64"
            ]
          },
          "metadata": {
            "tags": []
          },
          "execution_count": 10
        }
      ]
    },
    {
      "metadata": {
        "id": "4BRxgqWBnObp",
        "colab_type": "code",
        "colab": {}
      },
      "cell_type": "code",
      "source": [
        "from sklearn.ensemble import RandomForestRegressor\n"
      ],
      "execution_count": 0,
      "outputs": []
    },
    {
      "metadata": {
        "id": "OXvDnXiypJd5",
        "colab_type": "text"
      },
      "cell_type": "markdown",
      "source": [
        "# Preprocessin Data"
      ]
    },
    {
      "metadata": {
        "id": "YD944A4spOMT",
        "colab_type": "text"
      },
      "cell_type": "markdown",
      "source": [
        "1. Separate Dependent and Independent Variables \n",
        "\n",
        "Separate prediction variable from the dataset "
      ]
    },
    {
      "metadata": {
        "id": "8y2WYzqdpUTI",
        "colab_type": "code",
        "colab": {}
      },
      "cell_type": "code",
      "source": [
        "X = df_raw.drop('SalePrice', axis=1)\n",
        "y = df_raw['SalePrice']"
      ],
      "execution_count": 0,
      "outputs": []
    },
    {
      "metadata": {
        "id": "TmDVG5EypMoQ",
        "colab_type": "code",
        "colab": {
          "base_uri": "https://localhost:8080/",
          "height": 51
        },
        "outputId": "7378bafd-ee32-4cf2-f73a-e231cc0b491e"
      },
      "cell_type": "code",
      "source": [
        "print(X.shape)\n",
        "print(y.shape)"
      ],
      "execution_count": 15,
      "outputs": [
        {
          "output_type": "stream",
          "text": [
            "(1460, 56)\n",
            "(1460,)\n"
          ],
          "name": "stdout"
        }
      ]
    },
    {
      "metadata": {
        "id": "Jj_yYePYqZdr",
        "colab_type": "text"
      },
      "cell_type": "markdown",
      "source": [
        "# Model Training "
      ]
    },
    {
      "metadata": {
        "id": "wranlFhLoloK",
        "colab_type": "code",
        "colab": {
          "base_uri": "https://localhost:8080/",
          "height": 34
        },
        "outputId": "07fe6b92-3d9b-417a-a57d-4b1933c62a28"
      },
      "cell_type": "code",
      "source": [
        "\n",
        "model = RandomForestRegressor()\n",
        "\n",
        "# to train a model use fit()\n",
        "\n",
        "model.fit(X,y)\n",
        "\n",
        "#calculate predictions\n",
        "predictions = model.predict(X)\n",
        "\n",
        "#check score\n",
        "model.score(X, y)\n",
        "\n"
      ],
      "execution_count": 16,
      "outputs": [
        {
          "output_type": "execute_result",
          "data": {
            "text/plain": [
              "0.969103195299977"
            ]
          },
          "metadata": {
            "tags": []
          },
          "execution_count": 16
        }
      ]
    },
    {
      "metadata": {
        "id": "6xPxPxu7v76O",
        "colab_type": "text"
      },
      "cell_type": "markdown",
      "source": [
        "Divide the data in test and train to check our model"
      ]
    },
    {
      "metadata": {
        "id": "2DyFMxTjwC1E",
        "colab_type": "text"
      },
      "cell_type": "markdown",
      "source": [
        "# Using numpy"
      ]
    },
    {
      "metadata": {
        "id": "32cYWypyv6UD",
        "colab_type": "code",
        "colab": {
          "base_uri": "https://localhost:8080/",
          "height": 34
        },
        "outputId": "b90d7ab2-2e7d-4633-a093-4d5381477b64"
      },
      "cell_type": "code",
      "source": [
        "type(X)"
      ],
      "execution_count": 18,
      "outputs": [
        {
          "output_type": "execute_result",
          "data": {
            "text/plain": [
              "pandas.core.frame.DataFrame"
            ]
          },
          "metadata": {
            "tags": []
          },
          "execution_count": 18
        }
      ]
    },
    {
      "metadata": {
        "id": "Ag1S_MsiwQJC",
        "colab_type": "code",
        "colab": {
          "base_uri": "https://localhost:8080/",
          "height": 34
        },
        "outputId": "d935d7ac-4c37-4d60-a81e-279fe6753e22"
      },
      "cell_type": "code",
      "source": [
        "type(X.values)"
      ],
      "execution_count": 19,
      "outputs": [
        {
          "output_type": "execute_result",
          "data": {
            "text/plain": [
              "numpy.ndarray"
            ]
          },
          "metadata": {
            "tags": []
          },
          "execution_count": 19
        }
      ]
    },
    {
      "metadata": {
        "id": "PoLdNTmSweWw",
        "colab_type": "code",
        "colab": {
          "base_uri": "https://localhost:8080/",
          "height": 51
        },
        "outputId": "ed9110e9-5b99-45ce-917c-02a9b8897f12"
      },
      "cell_type": "code",
      "source": [
        "#take 1000 rows for training and 460 for testing \n",
        "\n",
        "train_X = X.values[0:1000,:]\n",
        "train_y = y.values[0:1000]\n",
        "\n",
        "test_X = X.values[1000:, :]\n",
        "test_y = y.values[1000:]\n",
        "\n",
        "print(train_X.shape, train_y.shape)\n",
        "print(test_X.shape, test_y.shape)"
      ],
      "execution_count": 21,
      "outputs": [
        {
          "output_type": "stream",
          "text": [
            "(1000, 56) (1000,)\n",
            "(460, 56) (460,)\n"
          ],
          "name": "stdout"
        }
      ]
    },
    {
      "metadata": {
        "id": "hoju80V7xWEZ",
        "colab_type": "code",
        "colab": {
          "base_uri": "https://localhost:8080/",
          "height": 34
        },
        "outputId": "a4fead74-ec68-4ee3-d963-4d49a94a9da5"
      },
      "cell_type": "code",
      "source": [
        "\n",
        "model = RandomForestRegressor()\n",
        "\n",
        "# to train a model use fit()\n",
        "\n",
        "model.fit(train_X,train_y)\n",
        "\n",
        "#calculate predictions\n",
        "# predictions = model.predict(X)\n",
        "\n",
        "#check score\n",
        "model.score(test_X, test_y)\n",
        "\n"
      ],
      "execution_count": 22,
      "outputs": [
        {
          "output_type": "execute_result",
          "data": {
            "text/plain": [
              "0.803294514681229"
            ]
          },
          "metadata": {
            "tags": []
          },
          "execution_count": 22
        }
      ]
    },
    {
      "metadata": {
        "id": "IcN4tDSBxpZk",
        "colab_type": "text"
      },
      "cell_type": "markdown",
      "source": [
        "# R2 value"
      ]
    },
    {
      "metadata": {
        "id": "wFFhzOLsxrRV",
        "colab_type": "code",
        "colab": {
          "base_uri": "https://localhost:8080/",
          "height": 34
        },
        "outputId": "08a08328-9985-4e06-ce0f-b69f29ae5fae"
      },
      "cell_type": "code",
      "source": [
        "predictions = model.predict(test_X)\n",
        "\n",
        "SSreg = np.sum((predictions - test_y)**2)\n",
        "SStot = np.sum((test_y - test_y.mean())**2)\n",
        "\n",
        "r2= 1 - (SSreg / SStot)\n",
        "\n",
        "r2"
      ],
      "execution_count": 23,
      "outputs": [
        {
          "output_type": "execute_result",
          "data": {
            "text/plain": [
              "0.803294514681229"
            ]
          },
          "metadata": {
            "tags": []
          },
          "execution_count": 23
        }
      ]
    },
    {
      "metadata": {
        "id": "MhzmZuzNe613",
        "colab_type": "code",
        "colab": {}
      },
      "cell_type": "code",
      "source": [
        "# Code to plot a decision tree\n",
        "\n",
        "\n",
        "# from sklearn.externals.six import StringIO  \n",
        "# from IPython.display import Image  \n",
        "# from sklearn.tree import export_graphviz\n",
        "# import pydotplus\n",
        "# dot_data = StringIO()\n",
        "# export_graphviz(dtree, out_file=dot_data,  \n",
        "#                 filled=True, rounded=True,\n",
        "#                 special_characters=True)\n",
        "# graph = pydotplus.graph_from_dot_data(dot_data.getvalue())  \n",
        "# Image(graph.create_png())"
      ],
      "execution_count": 0,
      "outputs": []
    }
  ]
}