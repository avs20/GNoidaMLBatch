{
  "nbformat": 4,
  "nbformat_minor": 0,
  "metadata": {
    "colab": {
      "name": "SVHN mini.ipynb",
      "provenance": [],
      "collapsed_sections": [],
      "toc_visible": true,
      "include_colab_link": true
    },
    "kernelspec": {
      "name": "python3",
      "display_name": "Python 3"
    },
    "accelerator": "TPU"
  },
  "cells": [
    {
      "cell_type": "markdown",
      "metadata": {
        "id": "view-in-github",
        "colab_type": "text"
      },
      "source": [
        "<a href=\"https://colab.research.google.com/github/avs20/GNoidaMLBatch/blob/master/SVHN_mini.ipynb\" target=\"_parent\"><img src=\"https://colab.research.google.com/assets/colab-badge.svg\" alt=\"Open In Colab\"/></a>"
      ]
    },
    {
      "cell_type": "markdown",
      "metadata": {
        "id": "Nmt50rkUPxyl",
        "colab_type": "text"
      },
      "source": [
        "https://github.com/RyannnG/Capstone-Google-SVHN-Digits-Recognition\n",
        "\n",
        "\n",
        "\n",
        "https://ryannng.github.io/2016/12/20/Street-View-House-Numbers-Recognition-Using-ConvNets/\n",
        "\n",
        "\n",
        "https://github.com/penny4860/SVHN-deep-digit-detector\n",
        "https://github.com/potterhsu/SVHNClassifier\n",
        "\n",
        "https://github.com/penny4860/SVHN-deep-digit-detector\n",
        "\n",
        "\n",
        "http://ufldl.stanford.edu/housenumbers/\n",
        "\n",
        "https://github.com/ivangrov/Datasets-ASAP/blob/master/%5BPart%202%5D%20SVHN%20Dataset/Read_SVHN_in_Python.ipynb"
      ]
    },
    {
      "cell_type": "code",
      "metadata": {
        "id": "doMdtamwlyp2",
        "colab_type": "code",
        "colab": {}
      },
      "source": [
        "\n",
        "# These are all the modules we'll be using later.\n",
        "import numpy as np\n",
        "import tensorflow as tf\n",
        "from six.moves import cPickle as pickle\n",
        "from six.moves import range\n",
        "import scipy.io   \n",
        "import h5py\n",
        "\n",
        "import matplotlib.pyplot as plt\n",
        "\n",
        "import os\n",
        "import sys\n",
        "import tarfile\n",
        "from IPython.display import display, Image\n",
        "\n",
        "from scipy import ndimage\n",
        "\n",
        "import random\n",
        "\n",
        "from collections import Counter\n",
        "\n",
        "%matplotlib inline"
      ],
      "execution_count": 0,
      "outputs": []
    },
    {
      "cell_type": "markdown",
      "metadata": {
        "id": "99reCX1Dl9Z6",
        "colab_type": "text"
      },
      "source": [
        "Download training and testing sets from http://ufldl.stanford.edu/housenumbers/"
      ]
    },
    {
      "cell_type": "code",
      "metadata": {
        "id": "63IGouJumEXm",
        "colab_type": "code",
        "outputId": "baa1b43f-058e-43ae-efb6-30c93705ad3a",
        "colab": {
          "base_uri": "https://localhost:8080/",
          "height": 617
        }
      },
      "source": [
        "!wget http://ufldl.stanford.edu/housenumbers/train_32x32.mat\n",
        "!wget http://ufldl.stanford.edu/housenumbers/test_32x32.mat\n",
        "!wget http://ufldl.stanford.edu/housenumbers/extra_32x32.mat"
      ],
      "execution_count": 27,
      "outputs": [
        {
          "output_type": "stream",
          "text": [
            "--2019-09-30 14:53:50--  http://ufldl.stanford.edu/housenumbers/train_32x32.mat\n",
            "Resolving ufldl.stanford.edu (ufldl.stanford.edu)... 171.64.68.10\n",
            "Connecting to ufldl.stanford.edu (ufldl.stanford.edu)|171.64.68.10|:80... connected.\n",
            "HTTP request sent, awaiting response... 200 OK\n",
            "Length: 182040794 (174M) [text/plain]\n",
            "Saving to: ‘train_32x32.mat.1’\n",
            "\n",
            "train_32x32.mat.1   100%[===================>] 173.61M  47.7MB/s    in 5.6s    \n",
            "\n",
            "2019-09-30 14:53:56 (31.2 MB/s) - ‘train_32x32.mat.1’ saved [182040794/182040794]\n",
            "\n",
            "--2019-09-30 14:53:59--  http://ufldl.stanford.edu/housenumbers/test_32x32.mat\n",
            "Resolving ufldl.stanford.edu (ufldl.stanford.edu)... 171.64.68.10\n",
            "Connecting to ufldl.stanford.edu (ufldl.stanford.edu)|171.64.68.10|:80... connected.\n",
            "HTTP request sent, awaiting response... 200 OK\n",
            "Length: 64275384 (61M) [text/plain]\n",
            "Saving to: ‘test_32x32.mat.1’\n",
            "\n",
            "test_32x32.mat.1    100%[===================>]  61.30M  18.5MB/s    in 3.5s    \n",
            "\n",
            "2019-09-30 14:54:02 (17.6 MB/s) - ‘test_32x32.mat.1’ saved [64275384/64275384]\n",
            "\n",
            "--2019-09-30 14:54:05--  http://ufldl.stanford.edu/housenumbers/extra_32x32.mat\n",
            "Resolving ufldl.stanford.edu (ufldl.stanford.edu)... 171.64.68.10\n",
            "Connecting to ufldl.stanford.edu (ufldl.stanford.edu)|171.64.68.10|:80... connected.\n",
            "HTTP request sent, awaiting response... 200 OK\n",
            "Length: 1329278602 (1.2G) [text/plain]\n",
            "Saving to: ‘extra_32x32.mat.1’\n",
            "\n",
            "extra_32x32.mat.1   100%[===================>]   1.24G  18.5MB/s    in 62s     \n",
            "\n",
            "2019-09-30 14:55:07 (20.4 MB/s) - ‘extra_32x32.mat.1’ saved [1329278602/1329278602]\n",
            "\n"
          ],
          "name": "stdout"
        }
      ]
    },
    {
      "cell_type": "markdown",
      "metadata": {
        "id": "3-1AzShGmRF1",
        "colab_type": "text"
      },
      "source": [
        "Load and convert the data to pickle format. "
      ]
    },
    {
      "cell_type": "code",
      "metadata": {
        "id": "QUHDlykNl6w0",
        "colab_type": "code",
        "outputId": "ffec8be9-f21f-44d1-bf6b-d2d42a1ff45d",
        "colab": {
          "base_uri": "https://localhost:8080/",
          "height": 72
        }
      },
      "source": [
        "# load train/test dataset\n",
        "train_data = scipy.io.loadmat('./train_32x32.mat', variable_names='X').get('X')\n",
        "train_labels = scipy.io.loadmat('./train_32x32.mat', variable_names='y').get('y')\n",
        "test_data = scipy.io.loadmat('./test_32x32.mat', variable_names='X').get('X')\n",
        "test_labels = scipy.io.loadmat('./test_32x32.mat', variable_names='y').get('y')\n",
        "extra_data = scipy.io.loadmat('./extra_32x32.mat', variable_names='X').get('X')\n",
        "extra_labels = scipy.io.loadmat('./extra_32x32.mat', variable_names='y').get('y')\n",
        "\n",
        "print(train_data.shape, train_labels.shape)\n",
        "print(test_data.shape, test_labels.shape)\n",
        "print(extra_data.shape, extra_labels.shape)"
      ],
      "execution_count": 28,
      "outputs": [
        {
          "output_type": "stream",
          "text": [
            "(32, 32, 3, 73257) (73257, 1)\n",
            "(32, 32, 3, 26032) (26032, 1)\n",
            "(32, 32, 3, 531131) (531131, 1)\n"
          ],
          "name": "stdout"
        }
      ]
    },
    {
      "cell_type": "markdown",
      "metadata": {
        "id": "LH2Rftjimzx8",
        "colab_type": "text"
      },
      "source": [
        "Which labels are present?"
      ]
    },
    {
      "cell_type": "code",
      "metadata": {
        "id": "4lg6WA6Mm2kw",
        "colab_type": "code",
        "outputId": "ff4bb09b-aca0-4115-c89f-ba70fe113af2",
        "colab": {
          "base_uri": "https://localhost:8080/",
          "height": 295
        }
      },
      "source": [
        "\"\"\"\n",
        "Plotting Class Labels against their respective frequencies in a Bar Graph\n",
        "\"\"\"\n",
        "temp_labels = train_labels.reshape(73257).tolist()\n",
        "temp_labels = dict(Counter(temp_labels))\n",
        "plt.bar(range(len(temp_labels)), temp_labels.values(), align='center', label='Training Labels')\n",
        "plt.xticks(range(len(temp_labels)), temp_labels.keys())\n",
        "temp_labels = test_labels.reshape(26032).tolist()\n",
        "temp_labels = dict(Counter(temp_labels))\n",
        "plt.bar(range(len(temp_labels)), temp_labels.values(), align='center', color='red', label='Testing Labels')\n",
        "plt.legend()\n",
        "plt.xlabel('Class Labels')\n",
        "plt.ylabel('Frequency')\n",
        "plt.title('Frequency Distribution of Class Labels')\n",
        "plt.show()"
      ],
      "execution_count": 29,
      "outputs": [
        {
          "output_type": "display_data",
          "data": {
            "image/png": "[encoded data removed]",
            "text/plain": [
              "<Figure size 432x288 with 1 Axes>"
            ]
          },
          "metadata": {
            "tags": []
          }
        }
      ]
    },
    {
      "cell_type": "markdown",
      "metadata": {
        "id": "ritZ6sKhnEvM",
        "colab_type": "text"
      },
      "source": [
        "Transform the dataset to required format"
      ]
    },
    {
      "cell_type": "code",
      "metadata": {
        "id": "NlveF1_3nHkR",
        "colab_type": "code",
        "outputId": "ba67c1b5-4c58-4be4-f44e-313f0afb42c1",
        "colab": {
          "base_uri": "https://localhost:8080/",
          "height": 72
        }
      },
      "source": [
        "train_dataset = train_data.transpose((3,0,1,2))\n",
        "train_label = train_labels[:,0]\n",
        "test_dataset = test_data.transpose((3,0,1,2))\n",
        "test_label = test_labels[:,0]\n",
        "extra_dataset = extra_data.transpose((3,0,1,2))\n",
        "extra_label = extra_labels[:,0]\n",
        "\n",
        "\n",
        "print(train_dataset.shape, train_label.shape)\n",
        "print(test_dataset.shape, test_label.shape)\n",
        "print(extra_dataset.shape, extra_label.shape)"
      ],
      "execution_count": 30,
      "outputs": [
        {
          "output_type": "stream",
          "text": [
            "(73257, 32, 32, 3) (73257,)\n",
            "(26032, 32, 32, 3) (26032,)\n",
            "(531131, 32, 32, 3) (531131,)\n"
          ],
          "name": "stdout"
        }
      ]
    },
    {
      "cell_type": "code",
      "metadata": {
        "id": "mUwJp9FenHrN",
        "colab_type": "code",
        "colab": {}
      },
      "source": [
        "# create a validation dataset, 4/5 of data from train dataset , 1/5 from extra dataset\n",
        "valid_size = 6000  \n",
        "train_portion = 4000\n",
        "extra_portion = 2000"
      ],
      "execution_count": 0,
      "outputs": []
    },
    {
      "cell_type": "code",
      "metadata": {
        "id": "74LDlPiTnQ9g",
        "colab_type": "code",
        "outputId": "d05b2b4e-796c-48cb-a330-80aeb5a7a5b6",
        "colab": {
          "base_uri": "https://localhost:8080/",
          "height": 72
        }
      },
      "source": [
        "valid_dataset = np.concatenate((train_dataset[:train_portion,:,:,:], extra_dataset[:extra_portion,:,:,:]))\n",
        "valid_label = np.concatenate((train_label[:train_portion], extra_label[:extra_portion]))\n",
        "train_dataset = train_dataset[train_portion:,:,:,:]\n",
        "train_label = train_label[train_portion:]\n",
        "                             \n",
        "print(train_dataset.shape, train_label.shape)\n",
        "print(test_dataset.shape, test_label.shape)\n",
        "print(valid_dataset.shape, valid_label.shape)"
      ],
      "execution_count": 32,
      "outputs": [
        {
          "output_type": "stream",
          "text": [
            "(69257, 32, 32, 3) (69257,)\n",
            "(26032, 32, 32, 3) (26032,)\n",
            "(6000, 32, 32, 3) (6000,)\n"
          ],
          "name": "stdout"
        }
      ]
    },
    {
      "cell_type": "markdown",
      "metadata": {
        "id": "NR9TNGEGnbpv",
        "colab_type": "text"
      },
      "source": [
        "Randomize the datasets so that there is not any problem of same digits in same places\n"
      ]
    },
    {
      "cell_type": "code",
      "metadata": {
        "id": "rn8ZSusrniRI",
        "colab_type": "code",
        "colab": {}
      },
      "source": [
        "def randomize(dataset, labels):\n",
        "    permutation = np.random.permutation(labels.shape[0])\n",
        "    shuffled_dataset = dataset[permutation,:,:]\n",
        "    shuffled_labels = labels[permutation]\n",
        "    return shuffled_dataset, shuffled_labels\n",
        "train_dataset, train_label = randomize(train_dataset, train_label)\n",
        "test_dataset, test_label = randomize(test_dataset, test_label)\n",
        "valid_dataset, valid_label = randomize(valid_dataset, valid_label)"
      ],
      "execution_count": 0,
      "outputs": []
    },
    {
      "cell_type": "markdown",
      "metadata": {
        "id": "BNqG_Sionmpt",
        "colab_type": "text"
      },
      "source": [
        "Let's view some sample images"
      ]
    },
    {
      "cell_type": "code",
      "metadata": {
        "id": "LSw5Y57bnl0A",
        "colab_type": "code",
        "outputId": "25500d31-f88a-4888-8f39-1d5f059f24f1",
        "colab": {
          "base_uri": "https://localhost:8080/",
          "height": 255
        }
      },
      "source": [
        "def disp_sample_dataset(dataset, label, cmap=\"\"):\n",
        "    items = random.sample(range(dataset.shape[0]), 8)\n",
        "    for i, item in enumerate(items):\n",
        "        plt.subplot(2, 4, i+1)\n",
        "        plt.axis('off')\n",
        "        plt.title(label[i])\n",
        "        if cmap ==\"gray\":\n",
        "          plt.imshow(dataset[i],cmap=cmap)\n",
        "        else:\n",
        "          plt.imshow(dataset[i])\n",
        "          \n",
        "\n",
        "        \n",
        "disp_sample_dataset(train_dataset, train_label)\n"
      ],
      "execution_count": 34,
      "outputs": [
        {
          "output_type": "display_data",
          "data": {
            "image/png": "[encoded data removed]",
            "text/plain": [
              "<Figure size 432x288 with 8 Axes>"
            ]
          },
          "metadata": {
            "tags": []
          }
        }
      ]
    },
    {
      "cell_type": "markdown",
      "metadata": {
        "id": "JTiZpjY7nuc2",
        "colab_type": "text"
      },
      "source": [
        "There are single images in the dataset. The middle one is the main one. \n",
        "0 is represented by 10. "
      ]
    },
    {
      "cell_type": "markdown",
      "metadata": {
        "id": "BJ9YtOEboBCT",
        "colab_type": "text"
      },
      "source": [
        "### Saving the data to pickle file. \n"
      ]
    },
    {
      "cell_type": "code",
      "metadata": {
        "id": "GBFdV8Z5nz7I",
        "colab_type": "code",
        "colab": {}
      },
      "source": [
        "pickle_file = 'SVHN_single_ori.pickle'\n",
        "\n",
        "try:\n",
        "  f = open(pickle_file, 'wb')\n",
        "  save = {\n",
        "    'train_dataset': train_dataset,\n",
        "    'train_label': train_label,\n",
        "    'valid_dataset': valid_dataset,\n",
        "    'valid_label': valid_label,\n",
        "    'test_dataset': test_dataset,\n",
        "    'test_label': test_label,\n",
        "    }\n",
        "  pickle.dump(save, f, pickle.HIGHEST_PROTOCOL)\n",
        "  f.close()\n",
        "except Exception as e:\n",
        "  print('Unable to save data to', pickle_file, ':', e)\n",
        "  raise"
      ],
      "execution_count": 0,
      "outputs": []
    },
    {
      "cell_type": "markdown",
      "metadata": {
        "id": "mp6fudmyoKaz",
        "colab_type": "text"
      },
      "source": [
        "Let's read it and see if it's properly saved "
      ]
    },
    {
      "cell_type": "code",
      "metadata": {
        "id": "GxQXwg3ioNH5",
        "colab_type": "code",
        "outputId": "a8e53e64-e6a3-4a54-ea36-48f34cd1c9e9",
        "colab": {
          "base_uri": "https://localhost:8080/",
          "height": 72
        }
      },
      "source": [
        "pickle_file = 'SVHN_single_ori.pickle'\n",
        "\n",
        "with open(pickle_file, 'rb') as f:\n",
        "    save = pickle.load(f)\n",
        "    train_dataset = save['train_dataset']\n",
        "    train_label = save['train_label']\n",
        "    valid_dataset = save['valid_dataset']\n",
        "    valid_label = save['valid_label']\n",
        "    test_dataset = save['test_dataset']\n",
        "    test_label = save['test_label']\n",
        "    del save  # hint to help gc free up memory\n",
        "    print('Training set', train_dataset.shape, train_label.shape)\n",
        "    print('Validation set', valid_dataset.shape, valid_label.shape)\n",
        "    print('Test set', test_dataset.shape, test_label.shape)"
      ],
      "execution_count": 36,
      "outputs": [
        {
          "output_type": "stream",
          "text": [
            "Training set (69257, 32, 32, 3) (69257,)\n",
            "Validation set (6000, 32, 32, 3) (6000,)\n",
            "Test set (26032, 32, 32, 3) (26032,)\n"
          ],
          "name": "stdout"
        }
      ]
    },
    {
      "cell_type": "markdown",
      "metadata": {
        "id": "FZm2qXvloQLk",
        "colab_type": "text"
      },
      "source": [
        "The numbers match. See the images again "
      ]
    },
    {
      "cell_type": "code",
      "metadata": {
        "id": "pIZRJM3AoORE",
        "colab_type": "code",
        "outputId": "3d8454a5-5ecb-454f-ec5a-a7442e0fb317",
        "colab": {
          "base_uri": "https://localhost:8080/",
          "height": 255
        }
      },
      "source": [
        "disp_sample_dataset(train_dataset, train_label)\n"
      ],
      "execution_count": 37,
      "outputs": [
        {
          "output_type": "display_data",
          "data": {
            "image/png": "[encoded data removed]",
            "text/plain": [
              "<Figure size 432x288 with 8 Axes>"
            ]
          },
          "metadata": {
            "tags": []
          }
        }
      ]
    },
    {
      "cell_type": "markdown",
      "metadata": {
        "id": "SHBRGAHBobbA",
        "colab_type": "text"
      },
      "source": [
        "These are single numbers. So preprocessing for grayscale \n",
        "\n",
        "### Converting to grayscale"
      ]
    },
    {
      "cell_type": "code",
      "metadata": {
        "id": "MszbEMo6oieV",
        "colab_type": "code",
        "outputId": "58a34411-a0b0-4f5c-ecea-48c968bab60e",
        "colab": {
          "base_uri": "https://localhost:8080/",
          "height": 72
        }
      },
      "source": [
        "image_size = 32  # Pixel width and height.\n",
        "pixel_depth = 255.0  # Number of levels per pixel.\n",
        "\n",
        "def im2gray(image):\n",
        "    '''Normalize images'''\n",
        "    image = image.astype(float)\n",
        "    # Use the Conversion Method in This Paper:\n",
        "    # [http://www.eyemaginary.com/Rendering/TurnColorsGray.pdf]\n",
        "    image_gray = np.dot(image, [[0.2989],[0.5870],[0.1140]])\n",
        "    return image_gray\n",
        "\n",
        "train_data_c = im2gray(train_dataset)[:,:,:,0]\n",
        "test_data_c = im2gray(test_dataset)[:,:,:,0]\n",
        "valid_data_c = im2gray(valid_dataset)[:,:,:,0]\n",
        "\n",
        "print(train_data_c.shape, train_label.shape)\n",
        "print(test_data_c.shape, test_label.shape)\n",
        "print(valid_data_c.shape, valid_label.shape)\n"
      ],
      "execution_count": 38,
      "outputs": [
        {
          "output_type": "stream",
          "text": [
            "(69257, 32, 32) (69257,)\n",
            "(26032, 32, 32) (26032,)\n",
            "(6000, 32, 32) (6000,)\n"
          ],
          "name": "stdout"
        }
      ]
    },
    {
      "cell_type": "markdown",
      "metadata": {
        "id": "Sj-crt8womUb",
        "colab_type": "text"
      },
      "source": [
        "We go from 3d images to 2d (grayscale) images.\n",
        "\n",
        "Let's see the images again "
      ]
    },
    {
      "cell_type": "code",
      "metadata": {
        "id": "iNKXJMsVopn2",
        "colab_type": "code",
        "outputId": "c36f6e62-68d6-47f1-c00c-da173f858bd7",
        "colab": {
          "base_uri": "https://localhost:8080/",
          "height": 255
        }
      },
      "source": [
        "disp_sample_dataset(train_data_c, train_label, cmap=\"gray\")\n"
      ],
      "execution_count": 39,
      "outputs": [
        {
          "output_type": "display_data",
          "data": {
            "image/png": "[encoded data removed]",
            "text/plain": [
              "<Figure size 432x288 with 8 Axes>"
            ]
          },
          "metadata": {
            "tags": []
          }
        }
      ]
    },
    {
      "cell_type": "markdown",
      "metadata": {
        "id": "YyYjQLFbpRD6",
        "colab_type": "text"
      },
      "source": [
        "#### Saving the grayscale data"
      ]
    },
    {
      "cell_type": "code",
      "metadata": {
        "id": "nNClxHz_pJvl",
        "colab_type": "code",
        "colab": {}
      },
      "source": [
        "pickle_file = 'SVHN_single_grey.pickle'\n",
        "\n",
        "try:\n",
        "  f = open(pickle_file, 'wb')\n",
        "  save = {\n",
        "    'train_dataset': train_data_c,\n",
        "    'train_label': train_label,\n",
        "    'valid_dataset': valid_data_c,\n",
        "    'valid_label': valid_label,\n",
        "    'test_dataset': test_data_c,\n",
        "    'test_label': test_label,\n",
        "    }\n",
        "  pickle.dump(save, f, pickle.HIGHEST_PROTOCOL)\n",
        "  f.close()\n",
        "except Exception as e:\n",
        "  print('Unable to save data to', pickle_file, ':', e)\n",
        "  raise"
      ],
      "execution_count": 0,
      "outputs": []
    },
    {
      "cell_type": "markdown",
      "metadata": {
        "id": "pgW3c4hl_USL",
        "colab_type": "text"
      },
      "source": [
        "Now we have grayscale data. We need to further preprocess it with normalization. \n",
        "\n",
        "We will subtract the mean from the images and divide by standard deviation"
      ]
    },
    {
      "cell_type": "code",
      "metadata": {
        "id": "SQ4KnH17_kIg",
        "colab_type": "code",
        "colab": {
          "base_uri": "https://localhost:8080/",
          "height": 72
        },
        "outputId": "60da0343-64cd-4d53-a4f8-495a0488a4a0"
      },
      "source": [
        "def GCN(image, min_divisor=1e-4):\n",
        "    \"\"\"Global Contrast Normalization\"\"\"\n",
        "    \n",
        "    imsize = image.shape[0]\n",
        "    mean = np.mean(image, axis=(1,2), dtype=float)\n",
        "    std = np.std(image, axis=(1,2), dtype=float, ddof=1)\n",
        "    std[std < min_divisor] = 1.\n",
        "    image_GCN = np.zeros(image.shape, dtype=float)\n",
        "    \n",
        "    for i in np.arange(imsize):\n",
        "        image_GCN[i,:,:] = (image[i,:,:] - mean[i]) / std[i]\n",
        "        \n",
        "    return image_GCN\n",
        "\n",
        "train_data_GCN = GCN(train_dataset)\n",
        "test_data_GCN = GCN(test_dataset)\n",
        "valid_data_GCN = GCN(valid_dataset)\n",
        "\n",
        "print(train_data_GCN.shape, train_label.shape)\n",
        "print(test_data_GCN.shape, test_label.shape)\n",
        "print(valid_data_GCN.shape, valid_label.shape)"
      ],
      "execution_count": 41,
      "outputs": [
        {
          "output_type": "stream",
          "text": [
            "(69257, 32, 32, 3) (69257,)\n",
            "(26032, 32, 32, 3) (26032,)\n",
            "(6000, 32, 32, 3) (6000,)\n"
          ],
          "name": "stdout"
        }
      ]
    },
    {
      "cell_type": "code",
      "metadata": {
        "id": "es1ae6PuPsj8",
        "colab_type": "code",
        "colab": {
          "base_uri": "https://localhost:8080/",
          "height": 400
        },
        "outputId": "8aa979b4-5cfa-4f19-98ca-5d19b33955c6"
      },
      "source": [
        "disp_sample_dataset(train_data_GCN, train_label)\n"
      ],
      "execution_count": 42,
      "outputs": [
        {
          "output_type": "stream",
          "text": [
            "Clipping input data to the valid range for imshow with RGB data ([0..1] for floats or [0..255] for integers).\n",
            "Clipping input data to the valid range for imshow with RGB data ([0..1] for floats or [0..255] for integers).\n",
            "Clipping input data to the valid range for imshow with RGB data ([0..1] for floats or [0..255] for integers).\n",
            "Clipping input data to the valid range for imshow with RGB data ([0..1] for floats or [0..255] for integers).\n",
            "Clipping input data to the valid range for imshow with RGB data ([0..1] for floats or [0..255] for integers).\n",
            "Clipping input data to the valid range for imshow with RGB data ([0..1] for floats or [0..255] for integers).\n",
            "Clipping input data to the valid range for imshow with RGB data ([0..1] for floats or [0..255] for integers).\n",
            "Clipping input data to the valid range for imshow with RGB data ([0..1] for floats or [0..255] for integers).\n"
          ],
          "name": "stderr"
        },
        {
          "output_type": "display_data",
          "data": {
            "image/png": "[encoded data removed]",
            "text/plain": [
              "<Figure size 432x288 with 8 Axes>"
            ]
          },
          "metadata": {
            "tags": []
          }
        }
      ]
    },
    {
      "cell_type": "markdown",
      "metadata": {
        "id": "wVbXZqnAUNgG",
        "colab_type": "text"
      },
      "source": [
        "Saving the GCN features"
      ]
    },
    {
      "cell_type": "code",
      "metadata": {
        "id": "Jg_m9EKBUIGm",
        "colab_type": "code",
        "colab": {}
      },
      "source": [
        "pickle_file = 'SVHN_single_GCN.pickle'\n",
        "\n",
        "try:\n",
        "  f = open(pickle_file, 'wb')\n",
        "  save = {\n",
        "    'train_dataset': train_data_GCN,\n",
        "    'train_label': train_label,\n",
        "    'valid_dataset': valid_data_GCN,\n",
        "    'valid_label': valid_label,\n",
        "    'test_dataset': test_data_GCN,\n",
        "    'test_label': test_label,\n",
        "    }\n",
        "  pickle.dump(save, f, pickle.HIGHEST_PROTOCOL)\n",
        "  f.close()\n",
        "except Exception as e:\n",
        "  print('Unable to save data to', pickle_file, ':', e)\n",
        "  raise"
      ],
      "execution_count": 0,
      "outputs": []
    },
    {
      "cell_type": "markdown",
      "metadata": {
        "id": "Z6-5B4lYUuWg",
        "colab_type": "text"
      },
      "source": [
        "## Training the model \n",
        "\n",
        "#### Loading the saved images from pickle file"
      ]
    },
    {
      "cell_type": "code",
      "metadata": {
        "id": "jmURMQemUy0j",
        "colab_type": "code",
        "colab": {
          "base_uri": "https://localhost:8080/",
          "height": 72
        },
        "outputId": "c1ff75f9-c020-4b5d-e65b-0d821d990eec"
      },
      "source": [
        "pickle_file = 'SVHN_single_grey.pickle'\n",
        "\n",
        "with open(pickle_file, 'rb') as f:\n",
        "    save = pickle.load(f)\n",
        "    train_dataset = save['train_dataset']\n",
        "    train_label = save['train_label']\n",
        "    valid_dataset = save['valid_dataset']\n",
        "    valid_label = save['valid_label']\n",
        "    test_dataset = save['test_dataset']\n",
        "    test_label = save['test_label']\n",
        "    del save  # hint to help gc free up memory\n",
        "    print('Training set', train_dataset.shape, train_label.shape)\n",
        "    print('Validation set', valid_dataset.shape, valid_label.shape)\n",
        "    print('Test set', test_dataset.shape, test_label.shape)"
      ],
      "execution_count": 44,
      "outputs": [
        {
          "output_type": "stream",
          "text": [
            "Training set (69257, 32, 32) (69257,)\n",
            "Validation set (6000, 32, 32) (6000,)\n",
            "Test set (26032, 32, 32) (26032,)\n"
          ],
          "name": "stdout"
        }
      ]
    },
    {
      "cell_type": "markdown",
      "metadata": {
        "id": "74AC4_OmVIr-",
        "colab_type": "text"
      },
      "source": [
        "See the images "
      ]
    },
    {
      "cell_type": "code",
      "metadata": {
        "id": "zN3frMhCVKG9",
        "colab_type": "code",
        "colab": {
          "base_uri": "https://localhost:8080/",
          "height": 255
        },
        "outputId": "504fc651-33bb-49db-d333-11cc64c66df2"
      },
      "source": [
        "disp_sample_dataset(train_dataset, train_label,cmap=\"gray\")\n"
      ],
      "execution_count": 45,
      "outputs": [
        {
          "output_type": "display_data",
          "data": {
            "image/png": "[encoded data removed]",
            "text/plain": [
              "<Figure size 432x288 with 8 Axes>"
            ]
          },
          "metadata": {
            "tags": []
          }
        }
      ]
    },
    {
      "cell_type": "markdown",
      "metadata": {
        "id": "BpQEAtyqWaJv",
        "colab_type": "text"
      },
      "source": [
        "Need to preprocess the data a bit more. \n",
        "\n",
        "Keras requires that the number of channels are explicitly mentioned. Since we have 32x32 gray scale images. The number of channels is 1. So the new format should be \n",
        "\n",
        "32x32x1"
      ]
    },
    {
      "cell_type": "code",
      "metadata": {
        "id": "kQD5G6YMWsLF",
        "colab_type": "code",
        "colab": {
          "base_uri": "https://localhost:8080/",
          "height": 72
        },
        "outputId": "87d3872f-7a6e-4b9a-9bfd-fa55c6a541d4"
      },
      "source": [
        "image_size = 32\n",
        "num_labels = 11 # 0-9, + blank \n",
        "num_channels = 1 # grayscale\n",
        "\n",
        "import numpy as np\n",
        "\n",
        "def reformat(dataset, labels):\n",
        "    dataset = dataset.reshape(\n",
        "    (-1, image_size, image_size, num_channels)).astype(np.float32)\n",
        "    \n",
        "    labels = (np.arange(num_labels) == labels[:,None]).astype(np.float32)\n",
        "    return dataset, labels\n",
        "train_dataset, train_label = reformat(train_dataset, train_label)\n",
        "valid_dataset, valid_label = reformat(valid_dataset, valid_label)\n",
        "test_dataset, test_label = reformat(test_dataset, test_label)\n",
        "print('Training set', train_dataset.shape, train_label.shape)\n",
        "print('Validation set', valid_dataset.shape, valid_label.shape)\n",
        "print('Test set', test_dataset.shape, test_label.shape)"
      ],
      "execution_count": 46,
      "outputs": [
        {
          "output_type": "stream",
          "text": [
            "Training set (69257, 32, 32, 1) (69257, 11)\n",
            "Validation set (6000, 32, 32, 1) (6000, 11)\n",
            "Test set (26032, 32, 32, 1) (26032, 11)\n"
          ],
          "name": "stdout"
        }
      ]
    },
    {
      "cell_type": "markdown",
      "metadata": {
        "id": "MNEUEgK5W7IU",
        "colab_type": "text"
      },
      "source": [
        "Just for confirmation. Let's take a "
      ]
    },
    {
      "cell_type": "markdown",
      "metadata": {
        "id": "7YBnvJ9YWKIA",
        "colab_type": "text"
      },
      "source": [
        "Let's make a simple neural network model. "
      ]
    },
    {
      "cell_type": "code",
      "metadata": {
        "id": "ycz28TFiVQGM",
        "colab_type": "code",
        "colab": {
          "base_uri": "https://localhost:8080/",
          "height": 35
        },
        "outputId": "e7fdfbdf-faba-4950-a37c-1a3ef5e90fb2"
      },
      "source": [
        "from keras.models import Sequential\n",
        "from keras.layers import Dense, Dropout, Activation, Flatten\n",
        "from keras.layers import Convolution2D, MaxPooling2D\n",
        "from keras.layers import Convolution2D, MaxPooling2D\n"
      ],
      "execution_count": 47,
      "outputs": [
        {
          "output_type": "stream",
          "text": [
            "Using TensorFlow backend.\n"
          ],
          "name": "stderr"
        }
      ]
    },
    {
      "cell_type": "markdown",
      "metadata": {
        "id": "mT3mNOc_Wxlv",
        "colab_type": "text"
      },
      "source": [
        "Some hyperparameters for the model \n",
        "\n",
        "batch_size = 128\n",
        "\n",
        "patch_size = 5\n",
        "\n",
        "depth1 = 16\n",
        "\n",
        "depth2 = 32\n",
        "\n",
        "num_hidden = 1024"
      ]
    },
    {
      "cell_type": "code",
      "metadata": {
        "id": "k1U_mQcnWSnb",
        "colab_type": "code",
        "colab": {}
      },
      "source": [
        "batch_size = 1024\n",
        "patch_size = 5\n",
        "depth1 = 16\n",
        "depth2 = 32\n",
        "num_hidden = 1024"
      ],
      "execution_count": 0,
      "outputs": []
    },
    {
      "cell_type": "markdown",
      "metadata": {
        "id": "zqbzCfrGrnWi",
        "colab_type": "text"
      },
      "source": [
        "And the model architecture "
      ]
    },
    {
      "cell_type": "code",
      "metadata": {
        "id": "YmdBEGtRrolu",
        "colab_type": "code",
        "colab": {
          "base_uri": "https://localhost:8080/",
          "height": 110
        },
        "outputId": "99f1390f-7f6c-40c6-a027-8224699fdc1f"
      },
      "source": [
        "model = Sequential()\n",
        "\n",
        "# add the first convlution layer\n",
        "model.add(Convolution2D(32, (3, 3), activation='relu', input_shape=(32,32,1)))\n",
        "\n",
        "model.add(Convolution2D(32, 3, 3, activation='relu'))\n",
        "\n",
        "model.add(MaxPooling2D(pool_size=(2,2)))\n",
        "\n",
        "\n",
        "# let's add 1 more layer \n",
        "\n",
        "model.add(Convolution2D(64, 5, 5, activation='relu'))\n",
        "\n",
        "\n",
        "model.add(MaxPooling2D(pool_size=(2,2)))\n",
        "\n",
        "\n",
        "model.add(Dropout(0.25))\n",
        "\n",
        "model.add(Flatten())\n",
        "\n",
        "model.add(Dense(128, activation='relu'))\n",
        "\n",
        "model.add(Dropout(0.5))\n",
        "\n",
        "model.add(Dense(11, activation='softmax'))\n",
        "\n",
        "\n",
        "\n",
        "model.compile(loss='categorical_crossentropy',\n",
        "              optimizer='adam',\n",
        "              metrics=['accuracy'])"
      ],
      "execution_count": 52,
      "outputs": [
        {
          "output_type": "stream",
          "text": [
            "/usr/local/lib/python3.6/dist-packages/ipykernel_launcher.py:6: UserWarning: Update your `Conv2D` call to the Keras 2 API: `Conv2D(32, (3, 3), activation=\"relu\")`\n",
            "  \n",
            "/usr/local/lib/python3.6/dist-packages/ipykernel_launcher.py:13: UserWarning: Update your `Conv2D` call to the Keras 2 API: `Conv2D(64, (5, 5), activation=\"relu\")`\n",
            "  del sys.path[0]\n"
          ],
          "name": "stderr"
        }
      ]
    },
    {
      "cell_type": "code",
      "metadata": {
        "id": "bZM-oOXIs-AN",
        "colab_type": "code",
        "colab": {
          "base_uri": "https://localhost:8080/",
          "height": 255
        },
        "outputId": "186ae825-dd25-4b80-9c81-1c12418364f7"
      },
      "source": [
        "\n",
        "model.fit(train_dataset, train_label, \n",
        "          batch_size=batch_size, nb_epoch=10, verbose=1)"
      ],
      "execution_count": 0,
      "outputs": [
        {
          "output_type": "stream",
          "text": [
            "/usr/local/lib/python3.6/dist-packages/ipykernel_launcher.py:3: UserWarning: The `nb_epoch` argument in `fit` has been renamed `epochs`.\n",
            "  This is separate from the ipykernel package so we can avoid doing imports until\n"
          ],
          "name": "stderr"
        },
        {
          "output_type": "stream",
          "text": [
            "Epoch 1/10\n",
            "69257/69257 [==============================] - 207s 3ms/step - loss: 1.2835 - acc: 0.5909\n",
            "Epoch 2/10\n",
            "69257/69257 [==============================] - 203s 3ms/step - loss: 0.8069 - acc: 0.7576\n",
            "Epoch 3/10\n",
            "69257/69257 [==============================] - 203s 3ms/step - loss: 0.6784 - acc: 0.7980\n",
            "Epoch 4/10\n",
            "69257/69257 [==============================] - 202s 3ms/step - loss: 0.6049 - acc: 0.8201\n",
            "Epoch 5/10\n",
            " 8192/69257 [==>...........................] - ETA: 2:58 - loss: 0.5893 - acc: 0.8270"
          ],
          "name": "stdout"
        }
      ]
    }
  ]
}