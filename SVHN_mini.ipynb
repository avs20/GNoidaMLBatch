{
  "nbformat": 4,
  "nbformat_minor": 0,
  "metadata": {
    "colab": {
      "name": "SVHN mini.ipynb",
      "provenance": [],
      "include_colab_link": true
    },
    "kernelspec": {
      "name": "python3",
      "display_name": "Python 3"
    },
    "accelerator": "TPU"
  },
  "cells": [
    {
      "cell_type": "markdown",
      "metadata": {
        "id": "view-in-github",
        "colab_type": "text"
      },
      "source": [
        "<a href=\"https://colab.research.google.com/github/avs20/GNoidaMLBatch/blob/master/SVHN_mini.ipynb\" target=\"_parent\"><img src=\"https://colab.research.google.com/assets/colab-badge.svg\" alt=\"Open In Colab\"/></a>"
      ]
    },
    {
      "cell_type": "markdown",
      "metadata": {
        "id": "Nmt50rkUPxyl",
        "colab_type": "text"
      },
      "source": [
        "https://github.com/RyannnG/Capstone-Google-SVHN-Digits-Recognition\n",
        "\n",
        "\n",
        "\n",
        "https://ryannng.github.io/2016/12/20/Street-View-House-Numbers-Recognition-Using-ConvNets/\n",
        "\n",
        "\n",
        "https://github.com/penny4860/SVHN-deep-digit-detector\n",
        "https://github.com/potterhsu/SVHNClassifier\n",
        "\n",
        "https://github.com/penny4860/SVHN-deep-digit-detector\n"
      ]
    },
    {
      "cell_type": "code",
      "metadata": {
        "id": "doMdtamwlyp2",
        "colab_type": "code",
        "colab": {}
      },
      "source": [
        "\n",
        "# These are all the modules we'll be using later.\n",
        "import numpy as np\n",
        "import tensorflow as tf\n",
        "from six.moves import cPickle as pickle\n",
        "from six.moves import range\n",
        "import scipy.io   \n",
        "import h5py\n",
        "\n",
        "import matplotlib.pyplot as plt\n",
        "\n",
        "import os\n",
        "import sys\n",
        "import tarfile\n",
        "from IPython.display import display, Image\n",
        "\n",
        "from scipy import ndimage\n",
        "\n",
        "import random\n",
        "\n",
        "from collections import Counter\n",
        "\n",
        "%matplotlib inline"
      ],
      "execution_count": 0,
      "outputs": []
    },
    {
      "cell_type": "markdown",
      "metadata": {
        "id": "99reCX1Dl9Z6",
        "colab_type": "text"
      },
      "source": [
        "Download training and testing sets from http://ufldl.stanford.edu/housenumbers/"
      ]
    },
    {
      "cell_type": "code",
      "metadata": {
        "id": "63IGouJumEXm",
        "colab_type": "code",
        "colab": {
          "base_uri": "https://localhost:8080/",
          "height": 571
        },
        "outputId": "57fe270d-4ac8-4eb0-c3c1-5ce13238a0ab"
      },
      "source": [
        "!wget http://ufldl.stanford.edu/housenumbers/train_32x32.mat\n",
        "!wget http://ufldl.stanford.edu/housenumbers/test_32x32.mat\n",
        "!wget http://ufldl.stanford.edu/housenumbers/extra_32x32.mat"
      ],
      "execution_count": 2,
      "outputs": [
        {
          "output_type": "stream",
          "text": [
            "--2019-09-29 15:17:10--  http://ufldl.stanford.edu/housenumbers/train_32x32.mat\n",
            "Resolving ufldl.stanford.edu (ufldl.stanford.edu)... 171.64.68.10\n",
            "Connecting to ufldl.stanford.edu (ufldl.stanford.edu)|171.64.68.10|:80... connected.\n",
            "HTTP request sent, awaiting response... 200 OK\n",
            "Length: 182040794 (174M) [text/plain]\n",
            "Saving to: ‘train_32x32.mat’\n",
            "\n",
            "train_32x32.mat     100%[===================>] 173.61M  52.6MB/s    in 4.4s    \n",
            "\n",
            "2019-09-29 15:17:15 (39.6 MB/s) - ‘train_32x32.mat’ saved [182040794/182040794]\n",
            "\n",
            "--2019-09-29 15:17:17--  http://ufldl.stanford.edu/housenumbers/test_32x32.mat\n",
            "Resolving ufldl.stanford.edu (ufldl.stanford.edu)... 171.64.68.10\n",
            "Connecting to ufldl.stanford.edu (ufldl.stanford.edu)|171.64.68.10|:80... connected.\n",
            "HTTP request sent, awaiting response... 200 OK\n",
            "Length: 64275384 (61M) [text/plain]\n",
            "Saving to: ‘test_32x32.mat’\n",
            "\n",
            "test_32x32.mat      100%[===================>]  61.30M  23.9MB/s    in 2.6s    \n",
            "\n",
            "2019-09-29 15:17:20 (23.9 MB/s) - ‘test_32x32.mat’ saved [64275384/64275384]\n",
            "\n",
            "--2019-09-29 15:17:21--  http://ufldl.stanford.edu/housenumbers/extra_32x32.mat\n",
            "Resolving ufldl.stanford.edu (ufldl.stanford.edu)... 171.64.68.10\n",
            "Connecting to ufldl.stanford.edu (ufldl.stanford.edu)|171.64.68.10|:80... connected.\n",
            "HTTP request sent, awaiting response... 200 OK\n",
            "Length: 1329278602 (1.2G) [text/plain]\n",
            "Saving to: ‘extra_32x32.mat’\n",
            "\n",
            "extra_32x32.mat     100%[===================>]   1.24G  65.7MB/s    in 21s     \n",
            "\n",
            "2019-09-29 15:17:42 (60.4 MB/s) - ‘extra_32x32.mat’ saved [1329278602/1329278602]\n",
            "\n"
          ],
          "name": "stdout"
        }
      ]
    },
    {
      "cell_type": "markdown",
      "metadata": {
        "id": "3-1AzShGmRF1",
        "colab_type": "text"
      },
      "source": [
        "Load and convert the data to pickle format. "
      ]
    },
    {
      "cell_type": "code",
      "metadata": {
        "id": "QUHDlykNl6w0",
        "colab_type": "code",
        "colab": {
          "base_uri": "https://localhost:8080/",
          "height": 67
        },
        "outputId": "2bd9cca8-ce28-40f8-d4dc-b76a2bdaa598"
      },
      "source": [
        "# load train/test dataset\n",
        "train_data = scipy.io.loadmat('./train_32x32.mat', variable_names='X').get('X')\n",
        "train_labels = scipy.io.loadmat('./train_32x32.mat', variable_names='y').get('y')\n",
        "test_data = scipy.io.loadmat('./test_32x32.mat', variable_names='X').get('X')\n",
        "test_labels = scipy.io.loadmat('./test_32x32.mat', variable_names='y').get('y')\n",
        "extra_data = scipy.io.loadmat('./extra_32x32.mat', variable_names='X').get('X')\n",
        "extra_labels = scipy.io.loadmat('./extra_32x32.mat', variable_names='y').get('y')\n",
        "\n",
        "print(train_data.shape, train_labels.shape)\n",
        "print(test_data.shape, test_labels.shape)\n",
        "print(extra_data.shape, extra_labels.shape)"
      ],
      "execution_count": 3,
      "outputs": [
        {
          "output_type": "stream",
          "text": [
            "(32, 32, 3, 73257) (73257, 1)\n",
            "(32, 32, 3, 26032) (26032, 1)\n",
            "(32, 32, 3, 531131) (531131, 1)\n"
          ],
          "name": "stdout"
        }
      ]
    },
    {
      "cell_type": "markdown",
      "metadata": {
        "id": "LH2Rftjimzx8",
        "colab_type": "text"
      },
      "source": [
        "Which labels are present?"
      ]
    },
    {
      "cell_type": "code",
      "metadata": {
        "id": "4lg6WA6Mm2kw",
        "colab_type": "code",
        "colab": {
          "base_uri": "https://localhost:8080/",
          "height": 295
        },
        "outputId": "b267555e-ce76-4dea-a7b2-ff877de9933b"
      },
      "source": [
        "\"\"\"\n",
        "Plotting Class Labels against their respective frequencies in a Bar Graph\n",
        "\"\"\"\n",
        "temp_labels = train_labels.reshape(73257).tolist()\n",
        "temp_labels = dict(Counter(temp_labels))\n",
        "plt.bar(range(len(temp_labels)), temp_labels.values(), align='center', label='Training Labels')\n",
        "plt.xticks(range(len(temp_labels)), temp_labels.keys())\n",
        "temp_labels = test_labels.reshape(26032).tolist()\n",
        "temp_labels = dict(Counter(temp_labels))\n",
        "plt.bar(range(len(temp_labels)), temp_labels.values(), align='center', color='red', label='Testing Labels')\n",
        "plt.legend()\n",
        "plt.xlabel('Class Labels')\n",
        "plt.ylabel('Frequency')\n",
        "plt.title('Frequency Distribution of Class Labels')\n",
        "plt.show()"
      ],
      "execution_count": 6,
      "outputs": [
        {
          "output_type": "display_data",
          "data": {
            "image/png": "[encoded data removed]",
            "text/plain": [
              "<Figure size 432x288 with 1 Axes>"
            ]
          },
          "metadata": {
            "tags": []
          }
        }
      ]
    },
    {
      "cell_type": "markdown",
      "metadata": {
        "id": "ritZ6sKhnEvM",
        "colab_type": "text"
      },
      "source": [
        "Transform the dataset to required format"
      ]
    },
    {
      "cell_type": "code",
      "metadata": {
        "id": "NlveF1_3nHkR",
        "colab_type": "code",
        "colab": {
          "base_uri": "https://localhost:8080/",
          "height": 67
        },
        "outputId": "b8d54168-614a-4a85-ff58-dfe0f5e988ba"
      },
      "source": [
        "train_dataset = train_data.transpose((3,0,1,2))\n",
        "train_label = train_labels[:,0]\n",
        "test_dataset = test_data.transpose((3,0,1,2))\n",
        "test_label = test_labels[:,0]\n",
        "extra_dataset = extra_data.transpose((3,0,1,2))\n",
        "extra_label = extra_labels[:,0]\n",
        "\n",
        "\n",
        "print(train_dataset.shape, train_label.shape)\n",
        "print(test_dataset.shape, test_label.shape)\n",
        "print(extra_dataset.shape, extra_label.shape)"
      ],
      "execution_count": 7,
      "outputs": [
        {
          "output_type": "stream",
          "text": [
            "(73257, 32, 32, 3) (73257,)\n",
            "(26032, 32, 32, 3) (26032,)\n",
            "(531131, 32, 32, 3) (531131,)\n"
          ],
          "name": "stdout"
        }
      ]
    },
    {
      "cell_type": "code",
      "metadata": {
        "id": "mUwJp9FenHrN",
        "colab_type": "code",
        "colab": {}
      },
      "source": [
        "# create a validation dataset, 4/5 of data from train dataset , 1/5 from extra dataset\n",
        "valid_size = 6000  \n",
        "train_portion = 4000\n",
        "extra_portion = 2000"
      ],
      "execution_count": 0,
      "outputs": []
    },
    {
      "cell_type": "code",
      "metadata": {
        "id": "74LDlPiTnQ9g",
        "colab_type": "code",
        "colab": {
          "base_uri": "https://localhost:8080/",
          "height": 67
        },
        "outputId": "c7655c97-5303-4881-ef22-c4e76c70d8ab"
      },
      "source": [
        "valid_dataset = np.concatenate((train_dataset[:train_portion,:,:,:], extra_dataset[:extra_portion,:,:,:]))\n",
        "valid_label = np.concatenate((train_label[:train_portion], extra_label[:extra_portion]))\n",
        "train_dataset = train_dataset[train_portion:,:,:,:]\n",
        "train_label = train_label[train_portion:]\n",
        "                             \n",
        "print(train_dataset.shape, train_label.shape)\n",
        "print(test_dataset.shape, test_label.shape)\n",
        "print(valid_dataset.shape, valid_label.shape)"
      ],
      "execution_count": 9,
      "outputs": [
        {
          "output_type": "stream",
          "text": [
            "(69257, 32, 32, 3) (69257,)\n",
            "(26032, 32, 32, 3) (26032,)\n",
            "(6000, 32, 32, 3) (6000,)\n"
          ],
          "name": "stdout"
        }
      ]
    },
    {
      "cell_type": "markdown",
      "metadata": {
        "id": "NR9TNGEGnbpv",
        "colab_type": "text"
      },
      "source": [
        "Randomize the datasets so that there is not any problem of same digits in same places\n"
      ]
    },
    {
      "cell_type": "code",
      "metadata": {
        "id": "rn8ZSusrniRI",
        "colab_type": "code",
        "colab": {}
      },
      "source": [
        "def randomize(dataset, labels):\n",
        "    permutation = np.random.permutation(labels.shape[0])\n",
        "    shuffled_dataset = dataset[permutation,:,:]\n",
        "    shuffled_labels = labels[permutation]\n",
        "    return shuffled_dataset, shuffled_labels\n",
        "train_dataset, train_label = randomize(train_dataset, train_label)\n",
        "test_dataset, test_label = randomize(test_dataset, test_label)\n",
        "valid_dataset, valid_label = randomize(valid_dataset, valid_label)"
      ],
      "execution_count": 0,
      "outputs": []
    },
    {
      "cell_type": "markdown",
      "metadata": {
        "id": "BNqG_Sionmpt",
        "colab_type": "text"
      },
      "source": [
        "Let's view some sample images"
      ]
    },
    {
      "cell_type": "code",
      "metadata": {
        "id": "LSw5Y57bnl0A",
        "colab_type": "code",
        "colab": {
          "base_uri": "https://localhost:8080/",
          "height": 255
        },
        "outputId": "1cf8e596-5375-498c-f3b3-efaee9962a1c"
      },
      "source": [
        "def disp_sample_dataset(dataset, label, cmap=\"\"):\n",
        "    items = random.sample(range(dataset.shape[0]), 8)\n",
        "    for i, item in enumerate(items):\n",
        "        plt.subplot(2, 4, i+1)\n",
        "        plt.axis('off')\n",
        "        plt.title(label[i])\n",
        "        if cmap ==\"gray\":\n",
        "          plt.imshow(dataset[i],cmap=cmap)\n",
        "        else:\n",
        "          plt.imshow(dataset[i])\n",
        "          \n",
        "\n",
        "        \n",
        "disp_sample_dataset(train_dataset, train_label)\n"
      ],
      "execution_count": 17,
      "outputs": [
        {
          "output_type": "display_data",
          "data": {
            "image/png": "[encoded data removed]",
            "text/plain": [
              "<Figure size 432x288 with 8 Axes>"
            ]
          },
          "metadata": {
            "tags": []
          }
        }
      ]
    },
    {
      "cell_type": "markdown",
      "metadata": {
        "id": "JTiZpjY7nuc2",
        "colab_type": "text"
      },
      "source": [
        "There are single images in the dataset. The middle one is the main one. \n",
        "0 is represented by 10. "
      ]
    },
    {
      "cell_type": "markdown",
      "metadata": {
        "id": "BJ9YtOEboBCT",
        "colab_type": "text"
      },
      "source": [
        "### Saving the data to pickle file. \n"
      ]
    },
    {
      "cell_type": "code",
      "metadata": {
        "id": "GBFdV8Z5nz7I",
        "colab_type": "code",
        "colab": {}
      },
      "source": [
        "pickle_file = 'SVHN_single_ori.pickle'\n",
        "\n",
        "try:\n",
        "  f = open(pickle_file, 'wb')\n",
        "  save = {\n",
        "    'train_dataset': train_dataset,\n",
        "    'train_label': train_label,\n",
        "    'valid_dataset': valid_dataset,\n",
        "    'valid_label': valid_label,\n",
        "    'test_dataset': test_dataset,\n",
        "    'test_label': test_label,\n",
        "    }\n",
        "  pickle.dump(save, f, pickle.HIGHEST_PROTOCOL)\n",
        "  f.close()\n",
        "except Exception as e:\n",
        "  print('Unable to save data to', pickle_file, ':', e)\n",
        "  raise"
      ],
      "execution_count": 0,
      "outputs": []
    },
    {
      "cell_type": "markdown",
      "metadata": {
        "id": "mp6fudmyoKaz",
        "colab_type": "text"
      },
      "source": [
        "Let's read it and see if it's properly saved "
      ]
    },
    {
      "cell_type": "code",
      "metadata": {
        "id": "GxQXwg3ioNH5",
        "colab_type": "code",
        "colab": {
          "base_uri": "https://localhost:8080/",
          "height": 67
        },
        "outputId": "18d3281b-7ad9-4f23-eb8b-c0e41946713b"
      },
      "source": [
        "pickle_file = 'SVHN_single_ori.pickle'\n",
        "\n",
        "with open(pickle_file, 'rb') as f:\n",
        "    save = pickle.load(f)\n",
        "    train_dataset = save['train_dataset']\n",
        "    train_label = save['train_label']\n",
        "    valid_dataset = save['valid_dataset']\n",
        "    valid_label = save['valid_label']\n",
        "    test_dataset = save['test_dataset']\n",
        "    test_label = save['test_label']\n",
        "    del save  # hint to help gc free up memory\n",
        "    print('Training set', train_dataset.shape, train_label.shape)\n",
        "    print('Validation set', valid_dataset.shape, valid_label.shape)\n",
        "    print('Test set', test_dataset.shape, test_label.shape)"
      ],
      "execution_count": 13,
      "outputs": [
        {
          "output_type": "stream",
          "text": [
            "Training set (69257, 32, 32, 3) (69257,)\n",
            "Validation set (6000, 32, 32, 3) (6000,)\n",
            "Test set (26032, 32, 32, 3) (26032,)\n"
          ],
          "name": "stdout"
        }
      ]
    },
    {
      "cell_type": "markdown",
      "metadata": {
        "id": "FZm2qXvloQLk",
        "colab_type": "text"
      },
      "source": [
        "The numbers match. See the images again "
      ]
    },
    {
      "cell_type": "code",
      "metadata": {
        "id": "pIZRJM3AoORE",
        "colab_type": "code",
        "colab": {
          "base_uri": "https://localhost:8080/",
          "height": 255
        },
        "outputId": "163c06b7-ac57-4018-efa9-03218b127f54"
      },
      "source": [
        "disp_sample_dataset(train_dataset, train_label)\n"
      ],
      "execution_count": 14,
      "outputs": [
        {
          "output_type": "display_data",
          "data": {
            "image/png": "[encoded data removed]",
            "text/plain": [
              "<Figure size 432x288 with 8 Axes>"
            ]
          },
          "metadata": {
            "tags": []
          }
        }
      ]
    },
    {
      "cell_type": "markdown",
      "metadata": {
        "id": "SHBRGAHBobbA",
        "colab_type": "text"
      },
      "source": [
        "These are single numbers. So preprocessing for grayscale \n",
        "\n",
        "### Converting to grayscale"
      ]
    },
    {
      "cell_type": "code",
      "metadata": {
        "id": "MszbEMo6oieV",
        "colab_type": "code",
        "colab": {
          "base_uri": "https://localhost:8080/",
          "height": 67
        },
        "outputId": "e302a992-5e7c-4187-deec-23cbbffb8869"
      },
      "source": [
        "image_size = 32  # Pixel width and height.\n",
        "pixel_depth = 255.0  # Number of levels per pixel.\n",
        "\n",
        "def im2gray(image):\n",
        "    '''Normalize images'''\n",
        "    image = image.astype(float)\n",
        "    # Use the Conversion Method in This Paper:\n",
        "    # [http://www.eyemaginary.com/Rendering/TurnColorsGray.pdf]\n",
        "    image_gray = np.dot(image, [[0.2989],[0.5870],[0.1140]])\n",
        "    return image_gray\n",
        "\n",
        "train_data_c = im2gray(train_dataset)[:,:,:,0]\n",
        "test_data_c = im2gray(test_dataset)[:,:,:,0]\n",
        "valid_data_c = im2gray(valid_dataset)[:,:,:,0]\n",
        "\n",
        "print(train_data_c.shape, train_label.shape)\n",
        "print(test_data_c.shape, test_label.shape)\n",
        "print(valid_data_c.shape, valid_label.shape)\n"
      ],
      "execution_count": 15,
      "outputs": [
        {
          "output_type": "stream",
          "text": [
            "(69257, 32, 32) (69257,)\n",
            "(26032, 32, 32) (26032,)\n",
            "(6000, 32, 32) (6000,)\n"
          ],
          "name": "stdout"
        }
      ]
    },
    {
      "cell_type": "markdown",
      "metadata": {
        "id": "Sj-crt8womUb",
        "colab_type": "text"
      },
      "source": [
        "We go from 3d images to 2d (grayscale) images.\n",
        "\n",
        "Let's see the images again "
      ]
    },
    {
      "cell_type": "code",
      "metadata": {
        "id": "iNKXJMsVopn2",
        "colab_type": "code",
        "colab": {
          "base_uri": "https://localhost:8080/",
          "height": 255
        },
        "outputId": "98cae1ca-8470-4cdf-b810-7b02c4ec83f1"
      },
      "source": [
        "disp_sample_dataset(train_data_c, train_label, cmap=\"gray\")\n"
      ],
      "execution_count": 18,
      "outputs": [
        {
          "output_type": "display_data",
          "data": {
            "image/png": "[encoded data removed]",
            "text/plain": [
              "<Figure size 432x288 with 8 Axes>"
            ]
          },
          "metadata": {
            "tags": []
          }
        }
      ]
    },
    {
      "cell_type": "markdown",
      "metadata": {
        "id": "YyYjQLFbpRD6",
        "colab_type": "text"
      },
      "source": [
        "#### Saving the grayscale data"
      ]
    },
    {
      "cell_type": "code",
      "metadata": {
        "id": "nNClxHz_pJvl",
        "colab_type": "code",
        "colab": {}
      },
      "source": [
        "pickle_file = 'SVHN_single_grey.pickle'\n",
        "\n",
        "try:\n",
        "  f = open(pickle_file, 'wb')\n",
        "  save = {\n",
        "    'train_dataset': train_data_c,\n",
        "    'train_label': train_label,\n",
        "    'valid_dataset': valid_data_c,\n",
        "    'valid_label': valid_label,\n",
        "    'test_dataset': test_data_c,\n",
        "    'test_label': test_label,\n",
        "    }\n",
        "  pickle.dump(save, f, pickle.HIGHEST_PROTOCOL)\n",
        "  f.close()\n",
        "except Exception as e:\n",
        "  print('Unable to save data to', pickle_file, ':', e)\n",
        "  raise"
      ],
      "execution_count": 0,
      "outputs": []
    }
  ]
}