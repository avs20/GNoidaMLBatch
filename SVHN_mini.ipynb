{
  "nbformat": 4,
  "nbformat_minor": 0,
  "metadata": {
    "colab": {
      "name": "SVHN mini.ipynb",
      "provenance": [],
      "collapsed_sections": [],
      "toc_visible": true,
      "include_colab_link": true
    },
    "kernelspec": {
      "name": "python3",
      "display_name": "Python 3"
    },
    "accelerator": "TPU"
  },
  "cells": [
    {
      "cell_type": "markdown",
      "metadata": {
        "id": "view-in-github",
        "colab_type": "text"
      },
      "source": [
        "<a href=\"https://colab.research.google.com/github/avs20/GNoidaMLBatch/blob/master/SVHN_mini.ipynb\" target=\"_parent\"><img src=\"https://colab.research.google.com/assets/colab-badge.svg\" alt=\"Open In Colab\"/></a>"
      ]
    },
    {
      "cell_type": "markdown",
      "metadata": {
        "id": "Nmt50rkUPxyl",
        "colab_type": "text"
      },
      "source": [
        "https://github.com/RyannnG/Capstone-Google-SVHN-Digits-Recognition\n",
        "\n",
        "\n",
        "\n",
        "https://ryannng.github.io/2016/12/20/Street-View-House-Numbers-Recognition-Using-ConvNets/\n",
        "\n",
        "\n",
        "https://github.com/penny4860/SVHN-deep-digit-detector\n",
        "https://github.com/potterhsu/SVHNClassifier\n",
        "\n",
        "https://github.com/penny4860/SVHN-deep-digit-detector\n",
        "\n",
        "\n",
        "http://ufldl.stanford.edu/housenumbers/\n",
        "\n",
        "https://github.com/ivangrov/Datasets-ASAP/blob/master/%5BPart%202%5D%20SVHN%20Dataset/Read_SVHN_in_Python.ipynb"
      ]
    },
    {
      "cell_type": "code",
      "metadata": {
        "id": "doMdtamwlyp2",
        "colab_type": "code",
        "colab": {}
      },
      "source": [
        "\n",
        "# These are all the modules we'll be using later.\n",
        "import numpy as np\n",
        "import tensorflow as tf\n",
        "from six.moves import cPickle as pickle\n",
        "from six.moves import range\n",
        "import scipy.io   \n",
        "import h5py\n",
        "\n",
        "import matplotlib.pyplot as plt\n",
        "\n",
        "import os\n",
        "import sys\n",
        "import tarfile\n",
        "from IPython.display import display, Image\n",
        "\n",
        "from scipy import ndimage\n",
        "\n",
        "import random\n",
        "\n",
        "from collections import Counter\n",
        "\n",
        "%matplotlib inline"
      ],
      "execution_count": 0,
      "outputs": []
    },
    {
      "cell_type": "markdown",
      "metadata": {
        "id": "99reCX1Dl9Z6",
        "colab_type": "text"
      },
      "source": [
        "Download training and testing sets from http://ufldl.stanford.edu/housenumbers/"
      ]
    },
    {
      "cell_type": "code",
      "metadata": {
        "id": "63IGouJumEXm",
        "colab_type": "code",
        "outputId": "47ac85eb-1ebe-4d8d-b144-45fdcb18d3f7",
        "colab": {
          "base_uri": "https://localhost:8080/",
          "height": 617
        }
      },
      "source": [
        "!wget http://ufldl.stanford.edu/housenumbers/train_32x32.mat\n",
        "!wget http://ufldl.stanford.edu/housenumbers/test_32x32.mat\n",
        "!wget http://ufldl.stanford.edu/housenumbers/extra_32x32.mat"
      ],
      "execution_count": 2,
      "outputs": [
        {
          "output_type": "stream",
          "text": [
            "--2019-10-01 04:17:14--  http://ufldl.stanford.edu/housenumbers/train_32x32.mat\n",
            "Resolving ufldl.stanford.edu (ufldl.stanford.edu)... 171.64.68.10\n",
            "Connecting to ufldl.stanford.edu (ufldl.stanford.edu)|171.64.68.10|:80... connected.\n",
            "HTTP request sent, awaiting response... 200 OK\n",
            "Length: 182040794 (174M) [text/plain]\n",
            "Saving to: ‘train_32x32.mat’\n",
            "\n",
            "train_32x32.mat     100%[===================>] 173.61M  52.8MB/s    in 4.5s    \n",
            "\n",
            "2019-10-01 04:17:24 (38.5 MB/s) - ‘train_32x32.mat’ saved [182040794/182040794]\n",
            "\n",
            "--2019-10-01 04:17:27--  http://ufldl.stanford.edu/housenumbers/test_32x32.mat\n",
            "Resolving ufldl.stanford.edu (ufldl.stanford.edu)... 171.64.68.10\n",
            "Connecting to ufldl.stanford.edu (ufldl.stanford.edu)|171.64.68.10|:80... connected.\n",
            "HTTP request sent, awaiting response... 200 OK\n",
            "Length: 64275384 (61M) [text/plain]\n",
            "Saving to: ‘test_32x32.mat’\n",
            "\n",
            "test_32x32.mat      100%[===================>]  61.30M  24.4MB/s    in 2.5s    \n",
            "\n",
            "2019-10-01 04:17:29 (24.4 MB/s) - ‘test_32x32.mat’ saved [64275384/64275384]\n",
            "\n",
            "--2019-10-01 04:17:32--  http://ufldl.stanford.edu/housenumbers/extra_32x32.mat\n",
            "Resolving ufldl.stanford.edu (ufldl.stanford.edu)... 171.64.68.10\n",
            "Connecting to ufldl.stanford.edu (ufldl.stanford.edu)|171.64.68.10|:80... connected.\n",
            "HTTP request sent, awaiting response... 200 OK\n",
            "Length: 1329278602 (1.2G) [text/plain]\n",
            "Saving to: ‘extra_32x32.mat’\n",
            "\n",
            "extra_32x32.mat     100%[===================>]   1.24G  26.1MB/s    in 55s     \n",
            "\n",
            "2019-10-01 04:18:27 (23.1 MB/s) - ‘extra_32x32.mat’ saved [1329278602/1329278602]\n",
            "\n"
          ],
          "name": "stdout"
        }
      ]
    },
    {
      "cell_type": "markdown",
      "metadata": {
        "id": "3-1AzShGmRF1",
        "colab_type": "text"
      },
      "source": [
        "Load and convert the data to pickle format. "
      ]
    },
    {
      "cell_type": "code",
      "metadata": {
        "id": "QUHDlykNl6w0",
        "colab_type": "code",
        "outputId": "b93b54e1-b2ea-44ad-bda2-8965bcd7d22e",
        "colab": {
          "base_uri": "https://localhost:8080/",
          "height": 72
        }
      },
      "source": [
        "# load train/test dataset\n",
        "train_data = scipy.io.loadmat('./train_32x32.mat', variable_names='X').get('X')\n",
        "train_labels = scipy.io.loadmat('./train_32x32.mat', variable_names='y').get('y')\n",
        "test_data = scipy.io.loadmat('./test_32x32.mat', variable_names='X').get('X')\n",
        "test_labels = scipy.io.loadmat('./test_32x32.mat', variable_names='y').get('y')\n",
        "extra_data = scipy.io.loadmat('./extra_32x32.mat', variable_names='X').get('X')\n",
        "extra_labels = scipy.io.loadmat('./extra_32x32.mat', variable_names='y').get('y')\n",
        "\n",
        "print(train_data.shape, train_labels.shape)\n",
        "print(test_data.shape, test_labels.shape)\n",
        "print(extra_data.shape, extra_labels.shape)"
      ],
      "execution_count": 3,
      "outputs": [
        {
          "output_type": "stream",
          "text": [
            "(32, 32, 3, 73257) (73257, 1)\n",
            "(32, 32, 3, 26032) (26032, 1)\n",
            "(32, 32, 3, 531131) (531131, 1)\n"
          ],
          "name": "stdout"
        }
      ]
    },
    {
      "cell_type": "markdown",
      "metadata": {
        "id": "LH2Rftjimzx8",
        "colab_type": "text"
      },
      "source": [
        "Which labels are present?"
      ]
    },
    {
      "cell_type": "code",
      "metadata": {
        "id": "4lg6WA6Mm2kw",
        "colab_type": "code",
        "outputId": "2fbf8174-d15c-47ac-d7f7-3dd5cabba25f",
        "colab": {
          "base_uri": "https://localhost:8080/",
          "height": 295
        }
      },
      "source": [
        "\"\"\"\n",
        "Plotting Class Labels against their respective frequencies in a Bar Graph\n",
        "\"\"\"\n",
        "temp_labels = train_labels.reshape(73257).tolist()\n",
        "temp_labels = dict(Counter(temp_labels))\n",
        "plt.bar(range(len(temp_labels)), temp_labels.values(), align='center', label='Training Labels')\n",
        "plt.xticks(range(len(temp_labels)), temp_labels.keys())\n",
        "temp_labels = test_labels.reshape(26032).tolist()\n",
        "temp_labels = dict(Counter(temp_labels))\n",
        "plt.bar(range(len(temp_labels)), temp_labels.values(), align='center', color='red', label='Testing Labels')\n",
        "plt.legend()\n",
        "plt.xlabel('Class Labels')\n",
        "plt.ylabel('Frequency')\n",
        "plt.title('Frequency Distribution of Class Labels')\n",
        "plt.show()"
      ],
      "execution_count": 4,
      "outputs": [
        {
          "output_type": "display_data",
          "data": {
            "image/png": "[encoded data removed]",
            "text/plain": [
              "<Figure size 432x288 with 1 Axes>"
            ]
          },
          "metadata": {
            "tags": []
          }
        }
      ]
    },
    {
      "cell_type": "markdown",
      "metadata": {
        "id": "ritZ6sKhnEvM",
        "colab_type": "text"
      },
      "source": [
        "Transform the dataset to required format"
      ]
    },
    {
      "cell_type": "code",
      "metadata": {
        "id": "NlveF1_3nHkR",
        "colab_type": "code",
        "outputId": "eafe0ebe-528a-49d9-de58-871ebeb675e3",
        "colab": {
          "base_uri": "https://localhost:8080/",
          "height": 72
        }
      },
      "source": [
        "train_dataset = train_data.transpose((3,0,1,2))\n",
        "train_label = train_labels[:,0]\n",
        "test_dataset = test_data.transpose((3,0,1,2))\n",
        "test_label = test_labels[:,0]\n",
        "extra_dataset = extra_data.transpose((3,0,1,2))\n",
        "extra_label = extra_labels[:,0]\n",
        "\n",
        "\n",
        "print(train_dataset.shape, train_label.shape)\n",
        "print(test_dataset.shape, test_label.shape)\n",
        "print(extra_dataset.shape, extra_label.shape)"
      ],
      "execution_count": 5,
      "outputs": [
        {
          "output_type": "stream",
          "text": [
            "(73257, 32, 32, 3) (73257,)\n",
            "(26032, 32, 32, 3) (26032,)\n",
            "(531131, 32, 32, 3) (531131,)\n"
          ],
          "name": "stdout"
        }
      ]
    },
    {
      "cell_type": "code",
      "metadata": {
        "id": "mUwJp9FenHrN",
        "colab_type": "code",
        "colab": {}
      },
      "source": [
        "# create a validation dataset, 4/5 of data from train dataset , 1/5 from extra dataset\n",
        "valid_size = 6000  \n",
        "train_portion = 4000\n",
        "extra_portion = 2000"
      ],
      "execution_count": 0,
      "outputs": []
    },
    {
      "cell_type": "code",
      "metadata": {
        "id": "74LDlPiTnQ9g",
        "colab_type": "code",
        "outputId": "8ac25545-f9a5-4d6e-c025-7955a5571bc7",
        "colab": {
          "base_uri": "https://localhost:8080/",
          "height": 72
        }
      },
      "source": [
        "valid_dataset = np.concatenate((train_dataset[:train_portion,:,:,:], extra_dataset[:extra_portion,:,:,:]))\n",
        "valid_label = np.concatenate((train_label[:train_portion], extra_label[:extra_portion]))\n",
        "train_dataset = train_dataset[train_portion:,:,:,:]\n",
        "train_label = train_label[train_portion:]\n",
        "                             \n",
        "print(train_dataset.shape, train_label.shape)\n",
        "print(test_dataset.shape, test_label.shape)\n",
        "print(valid_dataset.shape, valid_label.shape)"
      ],
      "execution_count": 7,
      "outputs": [
        {
          "output_type": "stream",
          "text": [
            "(69257, 32, 32, 3) (69257,)\n",
            "(26032, 32, 32, 3) (26032,)\n",
            "(6000, 32, 32, 3) (6000,)\n"
          ],
          "name": "stdout"
        }
      ]
    },
    {
      "cell_type": "markdown",
      "metadata": {
        "id": "NR9TNGEGnbpv",
        "colab_type": "text"
      },
      "source": [
        "Randomize the datasets so that there is not any problem of same digits in same places\n"
      ]
    },
    {
      "cell_type": "code",
      "metadata": {
        "id": "rn8ZSusrniRI",
        "colab_type": "code",
        "colab": {}
      },
      "source": [
        "def randomize(dataset, labels):\n",
        "    permutation = np.random.permutation(labels.shape[0])\n",
        "    shuffled_dataset = dataset[permutation,:,:]\n",
        "    shuffled_labels = labels[permutation]\n",
        "    return shuffled_dataset, shuffled_labels\n",
        "train_dataset, train_label = randomize(train_dataset, train_label)\n",
        "test_dataset, test_label = randomize(test_dataset, test_label)\n",
        "valid_dataset, valid_label = randomize(valid_dataset, valid_label)"
      ],
      "execution_count": 0,
      "outputs": []
    },
    {
      "cell_type": "markdown",
      "metadata": {
        "id": "BNqG_Sionmpt",
        "colab_type": "text"
      },
      "source": [
        "Let's view some sample images"
      ]
    },
    {
      "cell_type": "code",
      "metadata": {
        "id": "LSw5Y57bnl0A",
        "colab_type": "code",
        "outputId": "db28a567-e49d-4bfa-bcb8-9ade098d8e6c",
        "colab": {
          "base_uri": "https://localhost:8080/",
          "height": 255
        }
      },
      "source": [
        "def disp_sample_dataset(dataset, label, cmap=\"\"):\n",
        "    items = random.sample(range(dataset.shape[0]), 8)\n",
        "    for i, item in enumerate(items):\n",
        "        plt.subplot(2, 4, i+1)\n",
        "        plt.axis('off')\n",
        "        plt.title(label[i])\n",
        "        if cmap ==\"gray\":\n",
        "          plt.imshow(dataset[i],cmap=cmap)\n",
        "        else:\n",
        "          plt.imshow(dataset[i])\n",
        "          \n",
        "\n",
        "        \n",
        "disp_sample_dataset(train_dataset, train_label)\n"
      ],
      "execution_count": 9,
      "outputs": [
        {
          "output_type": "display_data",
          "data": {
            "image/png": "[encoded data removed]",
            "text/plain": [
              "<Figure size 432x288 with 8 Axes>"
            ]
          },
          "metadata": {
            "tags": []
          }
        }
      ]
    },
    {
      "cell_type": "markdown",
      "metadata": {
        "id": "JTiZpjY7nuc2",
        "colab_type": "text"
      },
      "source": [
        "There are single images in the dataset. The middle one is the main one. \n",
        "0 is represented by 10. "
      ]
    },
    {
      "cell_type": "markdown",
      "metadata": {
        "id": "BJ9YtOEboBCT",
        "colab_type": "text"
      },
      "source": [
        "### Saving the data to pickle file. \n"
      ]
    },
    {
      "cell_type": "code",
      "metadata": {
        "id": "GBFdV8Z5nz7I",
        "colab_type": "code",
        "colab": {}
      },
      "source": [
        "pickle_file = 'SVHN_single_ori.pickle'\n",
        "\n",
        "try:\n",
        "  f = open(pickle_file, 'wb')\n",
        "  save = {\n",
        "    'train_dataset': train_dataset,\n",
        "    'train_label': train_label,\n",
        "    'valid_dataset': valid_dataset,\n",
        "    'valid_label': valid_label,\n",
        "    'test_dataset': test_dataset,\n",
        "    'test_label': test_label,\n",
        "    }\n",
        "  pickle.dump(save, f, pickle.HIGHEST_PROTOCOL)\n",
        "  f.close()\n",
        "except Exception as e:\n",
        "  print('Unable to save data to', pickle_file, ':', e)\n",
        "  raise"
      ],
      "execution_count": 0,
      "outputs": []
    },
    {
      "cell_type": "markdown",
      "metadata": {
        "id": "mp6fudmyoKaz",
        "colab_type": "text"
      },
      "source": [
        "Let's read it and see if it's properly saved "
      ]
    },
    {
      "cell_type": "code",
      "metadata": {
        "id": "GxQXwg3ioNH5",
        "colab_type": "code",
        "outputId": "2493eadc-f61e-4b58-fff5-29242c52c879",
        "colab": {
          "base_uri": "https://localhost:8080/",
          "height": 72
        }
      },
      "source": [
        "pickle_file = 'SVHN_single_ori.pickle'\n",
        "\n",
        "with open(pickle_file, 'rb') as f:\n",
        "    save = pickle.load(f)\n",
        "    train_dataset = save['train_dataset']\n",
        "    train_label = save['train_label']\n",
        "    valid_dataset = save['valid_dataset']\n",
        "    valid_label = save['valid_label']\n",
        "    test_dataset = save['test_dataset']\n",
        "    test_label = save['test_label']\n",
        "    del save  # hint to help gc free up memory\n",
        "    print('Training set', train_dataset.shape, train_label.shape)\n",
        "    print('Validation set', valid_dataset.shape, valid_label.shape)\n",
        "    print('Test set', test_dataset.shape, test_label.shape)"
      ],
      "execution_count": 11,
      "outputs": [
        {
          "output_type": "stream",
          "text": [
            "Training set (69257, 32, 32, 3) (69257,)\n",
            "Validation set (6000, 32, 32, 3) (6000,)\n",
            "Test set (26032, 32, 32, 3) (26032,)\n"
          ],
          "name": "stdout"
        }
      ]
    },
    {
      "cell_type": "markdown",
      "metadata": {
        "id": "FZm2qXvloQLk",
        "colab_type": "text"
      },
      "source": [
        "The numbers match. See the images again "
      ]
    },
    {
      "cell_type": "code",
      "metadata": {
        "id": "pIZRJM3AoORE",
        "colab_type": "code",
        "outputId": "0e4b2db0-c625-4aa1-b0ed-532e8c6536f9",
        "colab": {
          "base_uri": "https://localhost:8080/",
          "height": 255
        }
      },
      "source": [
        "disp_sample_dataset(train_dataset, train_label)\n"
      ],
      "execution_count": 12,
      "outputs": [
        {
          "output_type": "display_data",
          "data": {
            "image/png": "[encoded data removed]",
            "text/plain": [
              "<Figure size 432x288 with 8 Axes>"
            ]
          },
          "metadata": {
            "tags": []
          }
        }
      ]
    },
    {
      "cell_type": "markdown",
      "metadata": {
        "id": "SHBRGAHBobbA",
        "colab_type": "text"
      },
      "source": [
        "These are single numbers. So preprocessing for grayscale \n",
        "\n",
        "### Converting to grayscale"
      ]
    },
    {
      "cell_type": "code",
      "metadata": {
        "id": "MszbEMo6oieV",
        "colab_type": "code",
        "outputId": "66f18678-a9f7-4a2d-9f66-0be716b716b4",
        "colab": {
          "base_uri": "https://localhost:8080/",
          "height": 72
        }
      },
      "source": [
        "image_size = 32  # Pixel width and height.\n",
        "pixel_depth = 255.0  # Number of levels per pixel.\n",
        "\n",
        "def im2gray(image):\n",
        "    '''Normalize images'''\n",
        "    image = image.astype(float)\n",
        "    # Use the Conversion Method in This Paper:\n",
        "    # [http://www.eyemaginary.com/Rendering/TurnColorsGray.pdf]\n",
        "    image_gray = np.dot(image, [[0.2989],[0.5870],[0.1140]])\n",
        "    return image_gray\n",
        "\n",
        "train_data_c = im2gray(train_dataset)[:,:,:,0]\n",
        "test_data_c = im2gray(test_dataset)[:,:,:,0]\n",
        "valid_data_c = im2gray(valid_dataset)[:,:,:,0]\n",
        "\n",
        "print(train_data_c.shape, train_label.shape)\n",
        "print(test_data_c.shape, test_label.shape)\n",
        "print(valid_data_c.shape, valid_label.shape)\n"
      ],
      "execution_count": 13,
      "outputs": [
        {
          "output_type": "stream",
          "text": [
            "(69257, 32, 32) (69257,)\n",
            "(26032, 32, 32) (26032,)\n",
            "(6000, 32, 32) (6000,)\n"
          ],
          "name": "stdout"
        }
      ]
    },
    {
      "cell_type": "markdown",
      "metadata": {
        "id": "Sj-crt8womUb",
        "colab_type": "text"
      },
      "source": [
        "We go from 3d images to 2d (grayscale) images.\n",
        "\n",
        "Let's see the images again "
      ]
    },
    {
      "cell_type": "code",
      "metadata": {
        "id": "iNKXJMsVopn2",
        "colab_type": "code",
        "outputId": "d663d5e0-06b3-4a7e-9ae6-e211af25be3e",
        "colab": {
          "base_uri": "https://localhost:8080/",
          "height": 255
        }
      },
      "source": [
        "disp_sample_dataset(train_data_c, train_label, cmap=\"gray\")\n"
      ],
      "execution_count": 14,
      "outputs": [
        {
          "output_type": "display_data",
          "data": {
            "image/png": "[encoded data removed]",
            "text/plain": [
              "<Figure size 432x288 with 8 Axes>"
            ]
          },
          "metadata": {
            "tags": []
          }
        }
      ]
    },
    {
      "cell_type": "markdown",
      "metadata": {
        "id": "YyYjQLFbpRD6",
        "colab_type": "text"
      },
      "source": [
        "#### Saving the grayscale data"
      ]
    },
    {
      "cell_type": "code",
      "metadata": {
        "id": "nNClxHz_pJvl",
        "colab_type": "code",
        "colab": {}
      },
      "source": [
        "pickle_file = 'SVHN_single_grey.pickle'\n",
        "\n",
        "try:\n",
        "  f = open(pickle_file, 'wb')\n",
        "  save = {\n",
        "    'train_dataset': train_data_c,\n",
        "    'train_label': train_label,\n",
        "    'valid_dataset': valid_data_c,\n",
        "    'valid_label': valid_label,\n",
        "    'test_dataset': test_data_c,\n",
        "    'test_label': test_label,\n",
        "    }\n",
        "  pickle.dump(save, f, pickle.HIGHEST_PROTOCOL)\n",
        "  f.close()\n",
        "except Exception as e:\n",
        "  print('Unable to save data to', pickle_file, ':', e)\n",
        "  raise"
      ],
      "execution_count": 0,
      "outputs": []
    },
    {
      "cell_type": "markdown",
      "metadata": {
        "id": "pgW3c4hl_USL",
        "colab_type": "text"
      },
      "source": [
        "Now we have grayscale data. We need to further preprocess it with normalization. \n",
        "\n",
        "We will subtract the mean from the images and divide by standard deviation"
      ]
    },
    {
      "cell_type": "code",
      "metadata": {
        "id": "SQ4KnH17_kIg",
        "colab_type": "code",
        "colab": {
          "base_uri": "https://localhost:8080/",
          "height": 72
        },
        "outputId": "5190cc11-039e-4c54-f1b1-db1cac794f10"
      },
      "source": [
        "def GCN(image, min_divisor=1e-4):\n",
        "    \"\"\"Global Contrast Normalization\"\"\"\n",
        "    \n",
        "    imsize = image.shape[0]\n",
        "    mean = np.mean(image, axis=(1,2), dtype=float)\n",
        "    std = np.std(image, axis=(1,2), dtype=float, ddof=1)\n",
        "    std[std < min_divisor] = 1.\n",
        "    image_GCN = np.zeros(image.shape, dtype=float)\n",
        "    \n",
        "    for i in np.arange(imsize):\n",
        "        image_GCN[i,:,:] = (image[i,:,:] - mean[i]) / std[i]\n",
        "        \n",
        "    return image_GCN\n",
        "\n",
        "train_data_GCN = GCN(train_dataset)\n",
        "test_data_GCN = GCN(test_dataset)\n",
        "valid_data_GCN = GCN(valid_dataset)\n",
        "\n",
        "print(train_data_GCN.shape, train_label.shape)\n",
        "print(test_data_GCN.shape, test_label.shape)\n",
        "print(valid_data_GCN.shape, valid_label.shape)"
      ],
      "execution_count": 16,
      "outputs": [
        {
          "output_type": "stream",
          "text": [
            "(69257, 32, 32, 3) (69257,)\n",
            "(26032, 32, 32, 3) (26032,)\n",
            "(6000, 32, 32, 3) (6000,)\n"
          ],
          "name": "stdout"
        }
      ]
    },
    {
      "cell_type": "code",
      "metadata": {
        "id": "es1ae6PuPsj8",
        "colab_type": "code",
        "colab": {
          "base_uri": "https://localhost:8080/",
          "height": 400
        },
        "outputId": "460da8a5-61fa-4103-e95d-11f727ef9d26"
      },
      "source": [
        "disp_sample_dataset(train_data_GCN, train_label)\n"
      ],
      "execution_count": 17,
      "outputs": [
        {
          "output_type": "stream",
          "text": [
            "Clipping input data to the valid range for imshow with RGB data ([0..1] for floats or [0..255] for integers).\n",
            "Clipping input data to the valid range for imshow with RGB data ([0..1] for floats or [0..255] for integers).\n",
            "Clipping input data to the valid range for imshow with RGB data ([0..1] for floats or [0..255] for integers).\n",
            "Clipping input data to the valid range for imshow with RGB data ([0..1] for floats or [0..255] for integers).\n",
            "Clipping input data to the valid range for imshow with RGB data ([0..1] for floats or [0..255] for integers).\n",
            "Clipping input data to the valid range for imshow with RGB data ([0..1] for floats or [0..255] for integers).\n",
            "Clipping input data to the valid range for imshow with RGB data ([0..1] for floats or [0..255] for integers).\n",
            "Clipping input data to the valid range for imshow with RGB data ([0..1] for floats or [0..255] for integers).\n"
          ],
          "name": "stderr"
        },
        {
          "output_type": "display_data",
          "data": {
            "image/png": "[encoded data removed]",
            "text/plain": [
              "<Figure size 432x288 with 8 Axes>"
            ]
          },
          "metadata": {
            "tags": []
          }
        }
      ]
    },
    {
      "cell_type": "markdown",
      "metadata": {
        "id": "wVbXZqnAUNgG",
        "colab_type": "text"
      },
      "source": [
        "Saving the GCN features"
      ]
    },
    {
      "cell_type": "code",
      "metadata": {
        "id": "Jg_m9EKBUIGm",
        "colab_type": "code",
        "colab": {}
      },
      "source": [
        "pickle_file = 'SVHN_single_GCN.pickle'\n",
        "\n",
        "try:\n",
        "  f = open(pickle_file, 'wb')\n",
        "  save = {\n",
        "    'train_dataset': train_data_GCN,\n",
        "    'train_label': train_label,\n",
        "    'valid_dataset': valid_data_GCN,\n",
        "    'valid_label': valid_label,\n",
        "    'test_dataset': test_data_GCN,\n",
        "    'test_label': test_label,\n",
        "    }\n",
        "  pickle.dump(save, f, pickle.HIGHEST_PROTOCOL)\n",
        "  f.close()\n",
        "except Exception as e:\n",
        "  print('Unable to save data to', pickle_file, ':', e)\n",
        "  raise"
      ],
      "execution_count": 0,
      "outputs": []
    },
    {
      "cell_type": "markdown",
      "metadata": {
        "id": "Z6-5B4lYUuWg",
        "colab_type": "text"
      },
      "source": [
        "## Training the model \n",
        "\n",
        "#### Loading the saved images from pickle file"
      ]
    },
    {
      "cell_type": "code",
      "metadata": {
        "id": "jmURMQemUy0j",
        "colab_type": "code",
        "colab": {
          "base_uri": "https://localhost:8080/",
          "height": 72
        },
        "outputId": "a8f43b41-273c-4537-df83-d14b1dc67099"
      },
      "source": [
        "pickle_file = 'SVHN_single_grey.pickle'\n",
        "\n",
        "with open(pickle_file, 'rb') as f:\n",
        "    save = pickle.load(f)\n",
        "    train_dataset = save['train_dataset']\n",
        "    train_label = save['train_label']\n",
        "    valid_dataset = save['valid_dataset']\n",
        "    valid_label = save['valid_label']\n",
        "    test_dataset = save['test_dataset']\n",
        "    test_label = save['test_label']\n",
        "    del save  # hint to help gc free up memory\n",
        "    print('Training set', train_dataset.shape, train_label.shape)\n",
        "    print('Validation set', valid_dataset.shape, valid_label.shape)\n",
        "    print('Test set', test_dataset.shape, test_label.shape)"
      ],
      "execution_count": 19,
      "outputs": [
        {
          "output_type": "stream",
          "text": [
            "Training set (69257, 32, 32) (69257,)\n",
            "Validation set (6000, 32, 32) (6000,)\n",
            "Test set (26032, 32, 32) (26032,)\n"
          ],
          "name": "stdout"
        }
      ]
    },
    {
      "cell_type": "markdown",
      "metadata": {
        "id": "74AC4_OmVIr-",
        "colab_type": "text"
      },
      "source": [
        "See the images "
      ]
    },
    {
      "cell_type": "code",
      "metadata": {
        "id": "zN3frMhCVKG9",
        "colab_type": "code",
        "colab": {
          "base_uri": "https://localhost:8080/",
          "height": 255
        },
        "outputId": "04a6b82a-eeb7-4b6c-cfba-8cf0ec290d21"
      },
      "source": [
        "disp_sample_dataset(train_dataset, train_label,cmap=\"gray\")\n"
      ],
      "execution_count": 20,
      "outputs": [
        {
          "output_type": "display_data",
          "data": {
            "image/png": "[encoded data removed]",
            "text/plain": [
              "<Figure size 432x288 with 8 Axes>"
            ]
          },
          "metadata": {
            "tags": []
          }
        }
      ]
    },
    {
      "cell_type": "markdown",
      "metadata": {
        "id": "BpQEAtyqWaJv",
        "colab_type": "text"
      },
      "source": [
        "Need to preprocess the data a bit more. \n",
        "\n",
        "Keras requires that the number of channels are explicitly mentioned. Since we have 32x32 gray scale images. The number of channels is 1. So the new format should be \n",
        "\n",
        "32x32x1"
      ]
    },
    {
      "cell_type": "code",
      "metadata": {
        "id": "kQD5G6YMWsLF",
        "colab_type": "code",
        "colab": {
          "base_uri": "https://localhost:8080/",
          "height": 72
        },
        "outputId": "8d408074-3580-4804-b5e3-b5ba69c3078d"
      },
      "source": [
        "image_size = 32\n",
        "num_labels = 11 # 0-9, + blank \n",
        "num_channels = 1 # grayscale\n",
        "\n",
        "import numpy as np\n",
        "\n",
        "def reformat(dataset, labels):\n",
        "    dataset = dataset.reshape(\n",
        "    (-1, image_size, image_size, num_channels)).astype(np.float32)\n",
        "    \n",
        "    labels = (np.arange(num_labels) == labels[:,None]).astype(np.float32)\n",
        "    return dataset, labels\n",
        "train_dataset, train_label = reformat(train_dataset, train_label)\n",
        "valid_dataset, valid_label = reformat(valid_dataset, valid_label)\n",
        "test_dataset, test_label = reformat(test_dataset, test_label)\n",
        "print('Training set', train_dataset.shape, train_label.shape)\n",
        "print('Validation set', valid_dataset.shape, valid_label.shape)\n",
        "print('Test set', test_dataset.shape, test_label.shape)"
      ],
      "execution_count": 21,
      "outputs": [
        {
          "output_type": "stream",
          "text": [
            "Training set (69257, 32, 32, 1) (69257, 11)\n",
            "Validation set (6000, 32, 32, 1) (6000, 11)\n",
            "Test set (26032, 32, 32, 1) (26032, 11)\n"
          ],
          "name": "stdout"
        }
      ]
    },
    {
      "cell_type": "markdown",
      "metadata": {
        "id": "MNEUEgK5W7IU",
        "colab_type": "text"
      },
      "source": [
        "Just for confirmation. Let's take a "
      ]
    },
    {
      "cell_type": "markdown",
      "metadata": {
        "id": "7YBnvJ9YWKIA",
        "colab_type": "text"
      },
      "source": [
        "Let's make a simple neural network model. "
      ]
    },
    {
      "cell_type": "code",
      "metadata": {
        "id": "ycz28TFiVQGM",
        "colab_type": "code",
        "colab": {
          "base_uri": "https://localhost:8080/",
          "height": 35
        },
        "outputId": "2c6509a3-ad09-446c-ad80-c98b219e1ed6"
      },
      "source": [
        "from keras.models import Sequential\n",
        "from keras.layers import Dense, Dropout, Activation, Flatten\n",
        "from keras.layers import Convolution2D, MaxPooling2D\n",
        "from keras.layers import Convolution2D, MaxPooling2D\n"
      ],
      "execution_count": 22,
      "outputs": [
        {
          "output_type": "stream",
          "text": [
            "Using TensorFlow backend.\n"
          ],
          "name": "stderr"
        }
      ]
    },
    {
      "cell_type": "markdown",
      "metadata": {
        "id": "mT3mNOc_Wxlv",
        "colab_type": "text"
      },
      "source": [
        "Some hyperparameters for the model \n",
        "\n",
        "batch_size = 128\n",
        "\n",
        "patch_size = 5\n",
        "\n",
        "depth1 = 16\n",
        "\n",
        "depth2 = 32\n",
        "\n",
        "num_hidden = 1024"
      ]
    },
    {
      "cell_type": "code",
      "metadata": {
        "id": "k1U_mQcnWSnb",
        "colab_type": "code",
        "colab": {}
      },
      "source": [
        "batch_size = 1024\n",
        "patch_size = 5\n",
        "depth1 = 16\n",
        "depth2 = 32\n",
        "num_hidden = 1024"
      ],
      "execution_count": 0,
      "outputs": []
    },
    {
      "cell_type": "markdown",
      "metadata": {
        "id": "zqbzCfrGrnWi",
        "colab_type": "text"
      },
      "source": [
        "And the model architecture "
      ]
    },
    {
      "cell_type": "code",
      "metadata": {
        "id": "YmdBEGtRrolu",
        "colab_type": "code",
        "colab": {
          "base_uri": "https://localhost:8080/",
          "height": 419
        },
        "outputId": "a34781c6-bdd2-4e3b-82bf-c1557b2666c1"
      },
      "source": [
        "model = Sequential()\n",
        "\n",
        "# add the first convlution layer\n",
        "model.add(Convolution2D(32, (3, 3), activation='relu', input_shape=(32,32,1)))\n",
        "\n",
        "model.add(Convolution2D(32, 3, 3, activation='relu'))\n",
        "\n",
        "model.add(MaxPooling2D(pool_size=(2,2)))\n",
        "\n",
        "\n",
        "# let's add 1 more layer \n",
        "\n",
        "model.add(Convolution2D(64, 5, 5, activation='relu'))\n",
        "\n",
        "\n",
        "model.add(MaxPooling2D(pool_size=(2,2)))\n",
        "\n",
        "\n",
        "model.add(Dropout(0.25))\n",
        "\n",
        "model.add(Flatten())\n",
        "\n",
        "model.add(Dense(128, activation='relu'))\n",
        "\n",
        "model.add(Dropout(0.5))\n",
        "\n",
        "model.add(Dense(11, activation='softmax'))\n",
        "\n",
        "\n",
        "\n",
        "model.compile(loss='categorical_crossentropy',\n",
        "              optimizer='adam',\n",
        "              metrics=['accuracy'])"
      ],
      "execution_count": 24,
      "outputs": [
        {
          "output_type": "stream",
          "text": [
            "WARNING:tensorflow:From /usr/local/lib/python3.6/dist-packages/keras/backend/tensorflow_backend.py:66: The name tf.get_default_graph is deprecated. Please use tf.compat.v1.get_default_graph instead.\n",
            "\n",
            "WARNING:tensorflow:From /usr/local/lib/python3.6/dist-packages/keras/backend/tensorflow_backend.py:541: The name tf.placeholder is deprecated. Please use tf.compat.v1.placeholder instead.\n",
            "\n",
            "WARNING:tensorflow:From /usr/local/lib/python3.6/dist-packages/keras/backend/tensorflow_backend.py:4432: The name tf.random_uniform is deprecated. Please use tf.random.uniform instead.\n",
            "\n",
            "WARNING:tensorflow:From /usr/local/lib/python3.6/dist-packages/keras/backend/tensorflow_backend.py:4267: The name tf.nn.max_pool is deprecated. Please use tf.nn.max_pool2d instead.\n",
            "\n",
            "WARNING:tensorflow:From /usr/local/lib/python3.6/dist-packages/keras/backend/tensorflow_backend.py:148: The name tf.placeholder_with_default is deprecated. Please use tf.compat.v1.placeholder_with_default instead.\n",
            "\n",
            "WARNING:tensorflow:From /usr/local/lib/python3.6/dist-packages/keras/backend/tensorflow_backend.py:3733: calling dropout (from tensorflow.python.ops.nn_ops) with keep_prob is deprecated and will be removed in a future version.\n",
            "Instructions for updating:\n",
            "Please use `rate` instead of `keep_prob`. Rate should be set to `rate = 1 - keep_prob`.\n",
            "WARNING:tensorflow:From /usr/local/lib/python3.6/dist-packages/keras/optimizers.py:793: The name tf.train.Optimizer is deprecated. Please use tf.compat.v1.train.Optimizer instead.\n",
            "\n",
            "WARNING:tensorflow:From /usr/local/lib/python3.6/dist-packages/keras/backend/tensorflow_backend.py:3576: The name tf.log is deprecated. Please use tf.math.log instead.\n",
            "\n"
          ],
          "name": "stdout"
        },
        {
          "output_type": "stream",
          "text": [
            "/usr/local/lib/python3.6/dist-packages/ipykernel_launcher.py:6: UserWarning: Update your `Conv2D` call to the Keras 2 API: `Conv2D(32, (3, 3), activation=\"relu\")`\n",
            "  \n",
            "/usr/local/lib/python3.6/dist-packages/ipykernel_launcher.py:13: UserWarning: Update your `Conv2D` call to the Keras 2 API: `Conv2D(64, (5, 5), activation=\"relu\")`\n",
            "  del sys.path[0]\n"
          ],
          "name": "stderr"
        }
      ]
    },
    {
      "cell_type": "code",
      "metadata": {
        "id": "bZM-oOXIs-AN",
        "colab_type": "code",
        "colab": {
          "base_uri": "https://localhost:8080/",
          "height": 1000
        },
        "outputId": "1491cef8-162d-4e2c-cff0-f5866772b710"
      },
      "source": [
        "from keras.callbacks import ModelCheckpoint\n",
        "\n",
        "# checkpoint\n",
        "filepath=\"weights.best20.hdf5\"\n",
        "checkpoint = ModelCheckpoint(filepath, monitor='val_acc', verbose=1, save_best_only=True, mode='max')\n",
        "callbacks_list = [checkpoint]\n",
        "\n",
        "\n",
        "model.fit(train_dataset, train_label, \n",
        "          batch_size=batch_size,validation_split=0.33, nb_epoch=20, verbose=1, callbacks=callbacks_list)"
      ],
      "execution_count": 28,
      "outputs": [
        {
          "output_type": "stream",
          "text": [
            "/usr/local/lib/python3.6/dist-packages/ipykernel_launcher.py:10: UserWarning: The `nb_epoch` argument in `fit` has been renamed `epochs`.\n",
            "  # Remove the CWD from sys.path while we load stuff.\n"
          ],
          "name": "stderr"
        },
        {
          "output_type": "stream",
          "text": [
            "Train on 46402 samples, validate on 22855 samples\n",
            "Epoch 1/20\n",
            "46402/46402 [==============================] - 150s 3ms/step - loss: 0.8237 - acc: 0.7502 - val_loss: 0.5345 - val_acc: 0.8429\n",
            "\n",
            "Epoch 00001: val_acc improved from -inf to 0.84288, saving model to weights.best20.hdf5\n",
            "Epoch 2/20\n",
            "46402/46402 [==============================] - 150s 3ms/step - loss: 0.6973 - acc: 0.7908 - val_loss: 0.5118 - val_acc: 0.8540\n",
            "\n",
            "Epoch 00002: val_acc improved from 0.84288 to 0.85404, saving model to weights.best20.hdf5\n",
            "Epoch 3/20\n",
            "46402/46402 [==============================] - 150s 3ms/step - loss: 0.6678 - acc: 0.7978 - val_loss: 0.5308 - val_acc: 0.8394\n",
            "\n",
            "Epoch 00003: val_acc did not improve from 0.85404\n",
            "Epoch 4/20\n",
            "46402/46402 [==============================] - 150s 3ms/step - loss: 0.6390 - acc: 0.8057 - val_loss: 0.4643 - val_acc: 0.8643\n",
            "\n",
            "Epoch 00004: val_acc improved from 0.85404 to 0.86427, saving model to weights.best20.hdf5\n",
            "Epoch 5/20\n",
            "46402/46402 [==============================] - 150s 3ms/step - loss: 0.5996 - acc: 0.8190 - val_loss: 0.4470 - val_acc: 0.8683\n",
            "\n",
            "Epoch 00005: val_acc improved from 0.86427 to 0.86826, saving model to weights.best20.hdf5\n",
            "Epoch 6/20\n",
            "46402/46402 [==============================] - 148s 3ms/step - loss: 0.5793 - acc: 0.8263 - val_loss: 0.4397 - val_acc: 0.8684\n",
            "\n",
            "Epoch 00006: val_acc improved from 0.86826 to 0.86843, saving model to weights.best20.hdf5\n",
            "Epoch 7/20\n",
            "46402/46402 [==============================] - 148s 3ms/step - loss: 0.5500 - acc: 0.8340 - val_loss: 0.4421 - val_acc: 0.8709\n",
            "\n",
            "Epoch 00007: val_acc improved from 0.86843 to 0.87093, saving model to weights.best20.hdf5\n",
            "Epoch 8/20\n",
            "46402/46402 [==============================] - 148s 3ms/step - loss: 0.5448 - acc: 0.8361 - val_loss: 0.4099 - val_acc: 0.8819\n",
            "\n",
            "Epoch 00008: val_acc improved from 0.87093 to 0.88186, saving model to weights.best20.hdf5\n",
            "Epoch 9/20\n",
            "46402/46402 [==============================] - 148s 3ms/step - loss: 0.5186 - acc: 0.8450 - val_loss: 0.4019 - val_acc: 0.8825\n",
            "\n",
            "Epoch 00009: val_acc improved from 0.88186 to 0.88248, saving model to weights.best20.hdf5\n",
            "Epoch 10/20\n",
            "46402/46402 [==============================] - 148s 3ms/step - loss: 0.5064 - acc: 0.8488 - val_loss: 0.4031 - val_acc: 0.8844\n",
            "\n",
            "Epoch 00010: val_acc improved from 0.88248 to 0.88440, saving model to weights.best20.hdf5\n",
            "Epoch 11/20\n",
            "46402/46402 [==============================] - 148s 3ms/step - loss: 0.4804 - acc: 0.8557 - val_loss: 0.3790 - val_acc: 0.8882\n",
            "\n",
            "Epoch 00011: val_acc improved from 0.88440 to 0.88821, saving model to weights.best20.hdf5\n",
            "Epoch 12/20\n",
            "46402/46402 [==============================] - 148s 3ms/step - loss: 0.4692 - acc: 0.8582 - val_loss: 0.3674 - val_acc: 0.8933\n",
            "\n",
            "Epoch 00012: val_acc improved from 0.88821 to 0.89328, saving model to weights.best20.hdf5\n",
            "Epoch 13/20\n",
            "46402/46402 [==============================] - 148s 3ms/step - loss: 0.4634 - acc: 0.8610 - val_loss: 0.3803 - val_acc: 0.8864\n",
            "\n",
            "Epoch 00013: val_acc did not improve from 0.89328\n",
            "Epoch 14/20\n",
            "46402/46402 [==============================] - 148s 3ms/step - loss: 0.4536 - acc: 0.8646 - val_loss: 0.3659 - val_acc: 0.8935\n",
            "\n",
            "Epoch 00014: val_acc improved from 0.89328 to 0.89355, saving model to weights.best20.hdf5\n",
            "Epoch 15/20\n",
            "46402/46402 [==============================] - 148s 3ms/step - loss: 0.4300 - acc: 0.8697 - val_loss: 0.3520 - val_acc: 0.8979\n",
            "\n",
            "Epoch 00015: val_acc improved from 0.89355 to 0.89792, saving model to weights.best20.hdf5\n",
            "Epoch 16/20\n",
            "46402/46402 [==============================] - 148s 3ms/step - loss: 0.4292 - acc: 0.8718 - val_loss: 0.3642 - val_acc: 0.8946\n",
            "\n",
            "Epoch 00016: val_acc did not improve from 0.89792\n",
            "Epoch 17/20\n",
            "46402/46402 [==============================] - 148s 3ms/step - loss: 0.4242 - acc: 0.8727 - val_loss: 0.3442 - val_acc: 0.9012\n",
            "\n",
            "Epoch 00017: val_acc improved from 0.89792 to 0.90125, saving model to weights.best20.hdf5\n",
            "Epoch 18/20\n",
            "46402/46402 [==============================] - 148s 3ms/step - loss: 0.4061 - acc: 0.8772 - val_loss: 0.3554 - val_acc: 0.8994\n",
            "\n",
            "Epoch 00018: val_acc did not improve from 0.90125\n",
            "Epoch 19/20\n",
            "46402/46402 [==============================] - 148s 3ms/step - loss: 0.4028 - acc: 0.8785 - val_loss: 0.3361 - val_acc: 0.9022\n",
            "\n",
            "Epoch 00019: val_acc improved from 0.90125 to 0.90221, saving model to weights.best20.hdf5\n",
            "Epoch 20/20\n",
            "46402/46402 [==============================] - 148s 3ms/step - loss: 0.3910 - acc: 0.8810 - val_loss: 0.3423 - val_acc: 0.9010\n",
            "\n",
            "Epoch 00020: val_acc did not improve from 0.90221\n"
          ],
          "name": "stdout"
        },
        {
          "output_type": "execute_result",
          "data": {
            "text/plain": [
              "<keras.callbacks.History at 0x7f82bac15b00>"
            ]
          },
          "metadata": {
            "tags": []
          },
          "execution_count": 28
        }
      ]
    },
    {
      "cell_type": "code",
      "metadata": {
        "id": "58Qg_0aeid0D",
        "colab_type": "code",
        "colab": {
          "base_uri": "https://localhost:8080/",
          "height": 54
        },
        "outputId": "6bed829d-a40e-4c27-d939-00f97e73844b"
      },
      "source": [
        "\n",
        "\n",
        "# load weights\n",
        "model.load_weights(\"weights.best20.hdf5\")\n",
        "# Compile model (required to make predictions)\n",
        "\n",
        "model.compile(loss='categorical_crossentropy',\n",
        "              optimizer='adam',\n",
        "              metrics=['accuracy'])\n",
        "\n",
        "print(\"Created model and loaded weights from file\")\n",
        "scores = model.evaluate(test_dataset, test_label, verbose=0)\n",
        "print(\"%s: %.2f%%\" % (model.metrics_names[1], scores[1]*100))\n",
        "\n"
      ],
      "execution_count": 30,
      "outputs": [
        {
          "output_type": "stream",
          "text": [
            "Created model and loaded weights from file\n",
            "acc: 89.78%\n"
          ],
          "name": "stdout"
        }
      ]
    },
    {
      "cell_type": "code",
      "metadata": {
        "id": "daN3Xd9usYEu",
        "colab_type": "code",
        "colab": {}
      },
      "source": [
        ""
      ],
      "execution_count": 0,
      "outputs": []
    }
  ]
}